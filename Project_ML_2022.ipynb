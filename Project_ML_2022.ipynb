{
  "cells": [
    {
      "cell_type": "markdown",
      "source": [
        "### Speech Classification & Sentiment/Emotion Detection Using Advance Machine Learning Techniques\n",
        "----------------------------\n",
        "\n"
      ],
      "metadata": {
        "id": "IpciwEVDmEmk"
      }
    },
    {
      "cell_type": "markdown",
      "source": [
        "Mounting the drive for dataset"
      ],
      "metadata": {
        "id": "nQrjtGJPvpuB"
      }
    },
    {
      "cell_type": "code",
      "source": [
        "# pip install vaderSentiment"
      ],
      "metadata": {
        "id": "mOoeyCAOhMaB"
      },
      "execution_count": null,
      "outputs": []
    },
    {
      "cell_type": "markdown",
      "source": [
        "Importing the neccessary libraries\n"
      ],
      "metadata": {
        "id": "6sCyAkAcv2F6"
      }
    },
    {
      "cell_type": "code",
      "source": [
        "from google.colab import drive\n",
        "drive.mount('/content/drive')"
      ],
      "metadata": {
        "colab": {
          "base_uri": "https://localhost:8080/"
        },
        "id": "Uq642U2o6N-6",
        "outputId": "dcf6a25a-697f-4524-8a4d-69fb6ff309ae"
      },
      "execution_count": null,
      "outputs": [
        {
          "output_type": "stream",
          "name": "stdout",
          "text": [
            "Drive already mounted at /content/drive; to attempt to forcibly remount, call drive.mount(\"/content/drive\", force_remount=True).\n"
          ]
        }
      ]
    },
    {
      "cell_type": "code",
      "execution_count": null,
      "metadata": {
        "id": "xLDC9T9h_Msj",
        "colab": {
          "base_uri": "https://localhost:8080/"
        },
        "outputId": "16ffda1f-af27-478f-9477-544397e4ece4"
      },
      "outputs": [
        {
          "output_type": "stream",
          "name": "stderr",
          "text": [
            "[nltk_data] Downloading package vader_lexicon to /root/nltk_data...\n",
            "[nltk_data]   Package vader_lexicon is already up-to-date!\n"
          ]
        },
        {
          "output_type": "execute_result",
          "data": {
            "text/plain": [
              "True"
            ]
          },
          "metadata": {},
          "execution_count": 2
        }
      ],
      "source": [
        "import IPython.display as ipd\n",
        "# % pylab inline\n",
        "import os\n",
        "import pandas as pd\n",
        "import librosa\n",
        "import glob \n",
        "import librosa.display\n",
        "import random\n",
        "import shutil\n",
        "import nltk\n",
        "\n",
        "from sklearn.preprocessing import StandardScaler\n",
        "from sklearn.model_selection import train_test_split\n",
        "\n",
        "from keras.utils.np_utils import to_categorical\n",
        "\n",
        "import numpy as np\n",
        "from keras.models import Sequential\n",
        "from keras.layers import Dense, Dropout, Activation, Flatten\n",
        "from keras.layers import Convolution2D, MaxPooling2D\n",
        "from keras.optimizers import Adam\n",
        "from keras.utils import np_utils\n",
        "from sklearn import metrics \n",
        "\n",
        "from sklearn.datasets import make_regression\n",
        "from sklearn.preprocessing import StandardScaler\n",
        "\n",
        "from sklearn import metrics\n",
        "from sklearn.model_selection import train_test_split, GridSearchCV\n",
        "\n",
        "from keras.models import Sequential\n",
        "from keras.layers import Dense, Dropout \n",
        "from keras.wrappers.scikit_learn import KerasRegressor\n",
        "\n",
        "from keras.callbacks import EarlyStopping\n",
        "\n",
        "from keras import regularizers\n",
        "\n",
        "from sklearn.preprocessing import LabelEncoder\n",
        "\n",
        "from datetime import datetime\n",
        "\n",
        "import matplotlib.pyplot as plt\n",
        "\n",
        "from nltk.sentiment import SentimentIntensityAnalyzer\n",
        "nltk.download('vader_lexicon')\n",
        "\n"
      ]
    },
    {
      "cell_type": "markdown",
      "source": [
        "Reading Data"
      ],
      "metadata": {
        "id": "YYBL3y3wwBd3"
      }
    },
    {
      "cell_type": "code",
      "execution_count": null,
      "metadata": {
        "id": "zgmvFA0VL02V"
      },
      "outputs": [],
      "source": [
        "speakers=pd.read_csv(\"LibriSpeech/Speakers.csv\")"
      ]
    },
    {
      "cell_type": "code",
      "execution_count": null,
      "metadata": {
        "colab": {
          "base_uri": "https://localhost:8080/",
          "height": 424
        },
        "id": "tq6YyUzAPQ1g",
        "outputId": "16f12118-ada8-4b5e-feec-718ced6b1cf2"
      },
      "outputs": [
        {
          "data": {
            "text/html": [
              "\n",
              "  <div id=\"df-48a75a69-909a-4ec2-a266-4d9ea28ce24d\">\n",
              "    <div class=\"colab-df-container\">\n",
              "      <div>\n",
              "<style scoped>\n",
              "    .dataframe tbody tr th:only-of-type {\n",
              "        vertical-align: middle;\n",
              "    }\n",
              "\n",
              "    .dataframe tbody tr th {\n",
              "        vertical-align: top;\n",
              "    }\n",
              "\n",
              "    .dataframe thead th {\n",
              "        text-align: right;\n",
              "    }\n",
              "</style>\n",
              "<table border=\"1\" class=\"dataframe\">\n",
              "  <thead>\n",
              "    <tr style=\"text-align: right;\">\n",
              "      <th></th>\n",
              "      <th>ID</th>\n",
              "      <th>SEX</th>\n",
              "      <th>SUBSET</th>\n",
              "      <th>MINUTES</th>\n",
              "      <th>NAME</th>\n",
              "      <th>SEX.1</th>\n",
              "    </tr>\n",
              "  </thead>\n",
              "  <tbody>\n",
              "    <tr>\n",
              "      <th>0</th>\n",
              "      <td>14</td>\n",
              "      <td>| F |</td>\n",
              "      <td>train-clean-360</td>\n",
              "      <td>| 25.03 |</td>\n",
              "      <td>Kristin LeMoine</td>\n",
              "      <td>NaN</td>\n",
              "    </tr>\n",
              "    <tr>\n",
              "      <th>1</th>\n",
              "      <td>16</td>\n",
              "      <td>| F |</td>\n",
              "      <td>train-clean-360</td>\n",
              "      <td>| 25.11 |</td>\n",
              "      <td>Alys AtteWater</td>\n",
              "      <td>NaN</td>\n",
              "    </tr>\n",
              "    <tr>\n",
              "      <th>2</th>\n",
              "      <td>17</td>\n",
              "      <td>| M |</td>\n",
              "      <td>train-clean-360</td>\n",
              "      <td>| 25.04 |</td>\n",
              "      <td>Gord Mackenzie</td>\n",
              "      <td>NaN</td>\n",
              "    </tr>\n",
              "    <tr>\n",
              "      <th>3</th>\n",
              "      <td>19</td>\n",
              "      <td>| F |</td>\n",
              "      <td>train-clean-100</td>\n",
              "      <td>| 25.19 |</td>\n",
              "      <td>Kara Shallenberg</td>\n",
              "      <td>F</td>\n",
              "    </tr>\n",
              "    <tr>\n",
              "      <th>4</th>\n",
              "      <td>20</td>\n",
              "      <td>| F |</td>\n",
              "      <td>train-other-500</td>\n",
              "      <td>| 30.07 |</td>\n",
              "      <td>Gesine</td>\n",
              "      <td>NaN</td>\n",
              "    </tr>\n",
              "    <tr>\n",
              "      <th>...</th>\n",
              "      <td>...</td>\n",
              "      <td>...</td>\n",
              "      <td>...</td>\n",
              "      <td>...</td>\n",
              "      <td>...</td>\n",
              "      <td>...</td>\n",
              "    </tr>\n",
              "    <tr>\n",
              "      <th>2479</th>\n",
              "      <td>8975</td>\n",
              "      <td>| F |</td>\n",
              "      <td>train-clean-100</td>\n",
              "      <td>| 25.11 |</td>\n",
              "      <td>Daisy Flaim</td>\n",
              "      <td>F</td>\n",
              "    </tr>\n",
              "    <tr>\n",
              "      <th>2480</th>\n",
              "      <td>9000</td>\n",
              "      <td>| M |</td>\n",
              "      <td>train-other-500</td>\n",
              "      <td>| 27.26 |</td>\n",
              "      <td>Ramon Escamilla</td>\n",
              "      <td>NaN</td>\n",
              "    </tr>\n",
              "    <tr>\n",
              "      <th>2481</th>\n",
              "      <td>9022</td>\n",
              "      <td>| F |</td>\n",
              "      <td>train-clean-360</td>\n",
              "      <td>| 25.17 |</td>\n",
              "      <td>Claire M</td>\n",
              "      <td>NaN</td>\n",
              "    </tr>\n",
              "    <tr>\n",
              "      <th>2482</th>\n",
              "      <td>9023</td>\n",
              "      <td>| F |</td>\n",
              "      <td>train-clean-360</td>\n",
              "      <td>| 25.19 |</td>\n",
              "      <td>P. J. Morgan</td>\n",
              "      <td>NaN</td>\n",
              "    </tr>\n",
              "    <tr>\n",
              "      <th>2483</th>\n",
              "      <td>9026</td>\n",
              "      <td>| F |</td>\n",
              "      <td>train-clean-360</td>\n",
              "      <td>| 21.75 |</td>\n",
              "      <td>Tammy Porter</td>\n",
              "      <td>NaN</td>\n",
              "    </tr>\n",
              "  </tbody>\n",
              "</table>\n",
              "<p>2484 rows × 6 columns</p>\n",
              "</div>\n",
              "      <button class=\"colab-df-convert\" onclick=\"convertToInteractive('df-48a75a69-909a-4ec2-a266-4d9ea28ce24d')\"\n",
              "              title=\"Convert this dataframe to an interactive table.\"\n",
              "              style=\"display:none;\">\n",
              "        \n",
              "  <svg xmlns=\"http://www.w3.org/2000/svg\" height=\"24px\"viewBox=\"0 0 24 24\"\n",
              "       width=\"24px\">\n",
              "    <path d=\"M0 0h24v24H0V0z\" fill=\"none\"/>\n",
              "    <path d=\"M18.56 5.44l.94 2.06.94-2.06 2.06-.94-2.06-.94-.94-2.06-.94 2.06-2.06.94zm-11 1L8.5 8.5l.94-2.06 2.06-.94-2.06-.94L8.5 2.5l-.94 2.06-2.06.94zm10 10l.94 2.06.94-2.06 2.06-.94-2.06-.94-.94-2.06-.94 2.06-2.06.94z\"/><path d=\"M17.41 7.96l-1.37-1.37c-.4-.4-.92-.59-1.43-.59-.52 0-1.04.2-1.43.59L10.3 9.45l-7.72 7.72c-.78.78-.78 2.05 0 2.83L4 21.41c.39.39.9.59 1.41.59.51 0 1.02-.2 1.41-.59l7.78-7.78 2.81-2.81c.8-.78.8-2.07 0-2.86zM5.41 20L4 18.59l7.72-7.72 1.47 1.35L5.41 20z\"/>\n",
              "  </svg>\n",
              "      </button>\n",
              "      \n",
              "  <style>\n",
              "    .colab-df-container {\n",
              "      display:flex;\n",
              "      flex-wrap:wrap;\n",
              "      gap: 12px;\n",
              "    }\n",
              "\n",
              "    .colab-df-convert {\n",
              "      background-color: #E8F0FE;\n",
              "      border: none;\n",
              "      border-radius: 50%;\n",
              "      cursor: pointer;\n",
              "      display: none;\n",
              "      fill: #1967D2;\n",
              "      height: 32px;\n",
              "      padding: 0 0 0 0;\n",
              "      width: 32px;\n",
              "    }\n",
              "\n",
              "    .colab-df-convert:hover {\n",
              "      background-color: #E2EBFA;\n",
              "      box-shadow: 0px 1px 2px rgba(60, 64, 67, 0.3), 0px 1px 3px 1px rgba(60, 64, 67, 0.15);\n",
              "      fill: #174EA6;\n",
              "    }\n",
              "\n",
              "    [theme=dark] .colab-df-convert {\n",
              "      background-color: #3B4455;\n",
              "      fill: #D2E3FC;\n",
              "    }\n",
              "\n",
              "    [theme=dark] .colab-df-convert:hover {\n",
              "      background-color: #434B5C;\n",
              "      box-shadow: 0px 1px 3px 1px rgba(0, 0, 0, 0.15);\n",
              "      filter: drop-shadow(0px 1px 2px rgba(0, 0, 0, 0.3));\n",
              "      fill: #FFFFFF;\n",
              "    }\n",
              "  </style>\n",
              "\n",
              "      <script>\n",
              "        const buttonEl =\n",
              "          document.querySelector('#df-48a75a69-909a-4ec2-a266-4d9ea28ce24d button.colab-df-convert');\n",
              "        buttonEl.style.display =\n",
              "          google.colab.kernel.accessAllowed ? 'block' : 'none';\n",
              "\n",
              "        async function convertToInteractive(key) {\n",
              "          const element = document.querySelector('#df-48a75a69-909a-4ec2-a266-4d9ea28ce24d');\n",
              "          const dataTable =\n",
              "            await google.colab.kernel.invokeFunction('convertToInteractive',\n",
              "                                                     [key], {});\n",
              "          if (!dataTable) return;\n",
              "\n",
              "          const docLinkHtml = 'Like what you see? Visit the ' +\n",
              "            '<a target=\"_blank\" href=https://colab.research.google.com/notebooks/data_table.ipynb>data table notebook</a>'\n",
              "            + ' to learn more about interactive tables.';\n",
              "          element.innerHTML = '';\n",
              "          dataTable['output_type'] = 'display_data';\n",
              "          await google.colab.output.renderOutput(dataTable, element);\n",
              "          const docLink = document.createElement('div');\n",
              "          docLink.innerHTML = docLinkHtml;\n",
              "          element.appendChild(docLink);\n",
              "        }\n",
              "      </script>\n",
              "    </div>\n",
              "  </div>\n",
              "  "
            ],
            "text/plain": [
              "        ID    SEX           SUBSET    MINUTES              NAME SEX.1\n",
              "0       14  | F |  train-clean-360  | 25.03 |   Kristin LeMoine   NaN\n",
              "1       16  | F |  train-clean-360  | 25.11 |    Alys AtteWater   NaN\n",
              "2       17  | M |  train-clean-360  | 25.04 |    Gord Mackenzie   NaN\n",
              "3       19  | F |  train-clean-100  | 25.19 |  Kara Shallenberg    F \n",
              "4       20  | F |  train-other-500  | 30.07 |            Gesine   NaN\n",
              "...    ...    ...              ...        ...               ...   ...\n",
              "2479  8975  | F |  train-clean-100  | 25.11 |       Daisy Flaim    F \n",
              "2480  9000  | M |  train-other-500  | 27.26 |   Ramon Escamilla   NaN\n",
              "2481  9022  | F |  train-clean-360  | 25.17 |          Claire M   NaN\n",
              "2482  9023  | F |  train-clean-360  | 25.19 |      P. J. Morgan   NaN\n",
              "2483  9026  | F |  train-clean-360  | 21.75 |      Tammy Porter   NaN\n",
              "\n",
              "[2484 rows x 6 columns]"
            ]
          },
          "execution_count": 45,
          "metadata": {},
          "output_type": "execute_result"
        }
      ],
      "source": [
        "speakers"
      ]
    },
    {
      "cell_type": "code",
      "execution_count": null,
      "metadata": {
        "id": "jxF5xXE0zrh-"
      },
      "outputs": [],
      "source": [
        "speakers100=speakers[speakers['SUBSET']=='train-clean-100'][['ID','SEX.1']]"
      ]
    },
    {
      "cell_type": "code",
      "execution_count": null,
      "metadata": {
        "colab": {
          "base_uri": "https://localhost:8080/",
          "height": 424
        },
        "id": "8aRD-Udwzz_c",
        "outputId": "6339e441-73ce-4359-dc07-ebb6d7283b3a"
      },
      "outputs": [
        {
          "data": {
            "text/html": [
              "\n",
              "  <div id=\"df-0340afa9-3577-49df-af63-6b93236e7c86\">\n",
              "    <div class=\"colab-df-container\">\n",
              "      <div>\n",
              "<style scoped>\n",
              "    .dataframe tbody tr th:only-of-type {\n",
              "        vertical-align: middle;\n",
              "    }\n",
              "\n",
              "    .dataframe tbody tr th {\n",
              "        vertical-align: top;\n",
              "    }\n",
              "\n",
              "    .dataframe thead th {\n",
              "        text-align: right;\n",
              "    }\n",
              "</style>\n",
              "<table border=\"1\" class=\"dataframe\">\n",
              "  <thead>\n",
              "    <tr style=\"text-align: right;\">\n",
              "      <th></th>\n",
              "      <th>ID</th>\n",
              "      <th>SEX.1</th>\n",
              "    </tr>\n",
              "  </thead>\n",
              "  <tbody>\n",
              "    <tr>\n",
              "      <th>3</th>\n",
              "      <td>19</td>\n",
              "      <td>F</td>\n",
              "    </tr>\n",
              "    <tr>\n",
              "      <th>8</th>\n",
              "      <td>26</td>\n",
              "      <td>M</td>\n",
              "    </tr>\n",
              "    <tr>\n",
              "      <th>9</th>\n",
              "      <td>27</td>\n",
              "      <td>M</td>\n",
              "    </tr>\n",
              "    <tr>\n",
              "      <th>14</th>\n",
              "      <td>32</td>\n",
              "      <td>F</td>\n",
              "    </tr>\n",
              "    <tr>\n",
              "      <th>18</th>\n",
              "      <td>39</td>\n",
              "      <td>F</td>\n",
              "    </tr>\n",
              "    <tr>\n",
              "      <th>...</th>\n",
              "      <td>...</td>\n",
              "      <td>...</td>\n",
              "    </tr>\n",
              "    <tr>\n",
              "      <th>2451</th>\n",
              "      <td>8747</td>\n",
              "      <td>M</td>\n",
              "    </tr>\n",
              "    <tr>\n",
              "      <th>2455</th>\n",
              "      <td>8770</td>\n",
              "      <td>M</td>\n",
              "    </tr>\n",
              "    <tr>\n",
              "      <th>2462</th>\n",
              "      <td>8797</td>\n",
              "      <td>M</td>\n",
              "    </tr>\n",
              "    <tr>\n",
              "      <th>2469</th>\n",
              "      <td>8838</td>\n",
              "      <td>M</td>\n",
              "    </tr>\n",
              "    <tr>\n",
              "      <th>2479</th>\n",
              "      <td>8975</td>\n",
              "      <td>F</td>\n",
              "    </tr>\n",
              "  </tbody>\n",
              "</table>\n",
              "<p>251 rows × 2 columns</p>\n",
              "</div>\n",
              "      <button class=\"colab-df-convert\" onclick=\"convertToInteractive('df-0340afa9-3577-49df-af63-6b93236e7c86')\"\n",
              "              title=\"Convert this dataframe to an interactive table.\"\n",
              "              style=\"display:none;\">\n",
              "        \n",
              "  <svg xmlns=\"http://www.w3.org/2000/svg\" height=\"24px\"viewBox=\"0 0 24 24\"\n",
              "       width=\"24px\">\n",
              "    <path d=\"M0 0h24v24H0V0z\" fill=\"none\"/>\n",
              "    <path d=\"M18.56 5.44l.94 2.06.94-2.06 2.06-.94-2.06-.94-.94-2.06-.94 2.06-2.06.94zm-11 1L8.5 8.5l.94-2.06 2.06-.94-2.06-.94L8.5 2.5l-.94 2.06-2.06.94zm10 10l.94 2.06.94-2.06 2.06-.94-2.06-.94-.94-2.06-.94 2.06-2.06.94z\"/><path d=\"M17.41 7.96l-1.37-1.37c-.4-.4-.92-.59-1.43-.59-.52 0-1.04.2-1.43.59L10.3 9.45l-7.72 7.72c-.78.78-.78 2.05 0 2.83L4 21.41c.39.39.9.59 1.41.59.51 0 1.02-.2 1.41-.59l7.78-7.78 2.81-2.81c.8-.78.8-2.07 0-2.86zM5.41 20L4 18.59l7.72-7.72 1.47 1.35L5.41 20z\"/>\n",
              "  </svg>\n",
              "      </button>\n",
              "      \n",
              "  <style>\n",
              "    .colab-df-container {\n",
              "      display:flex;\n",
              "      flex-wrap:wrap;\n",
              "      gap: 12px;\n",
              "    }\n",
              "\n",
              "    .colab-df-convert {\n",
              "      background-color: #E8F0FE;\n",
              "      border: none;\n",
              "      border-radius: 50%;\n",
              "      cursor: pointer;\n",
              "      display: none;\n",
              "      fill: #1967D2;\n",
              "      height: 32px;\n",
              "      padding: 0 0 0 0;\n",
              "      width: 32px;\n",
              "    }\n",
              "\n",
              "    .colab-df-convert:hover {\n",
              "      background-color: #E2EBFA;\n",
              "      box-shadow: 0px 1px 2px rgba(60, 64, 67, 0.3), 0px 1px 3px 1px rgba(60, 64, 67, 0.15);\n",
              "      fill: #174EA6;\n",
              "    }\n",
              "\n",
              "    [theme=dark] .colab-df-convert {\n",
              "      background-color: #3B4455;\n",
              "      fill: #D2E3FC;\n",
              "    }\n",
              "\n",
              "    [theme=dark] .colab-df-convert:hover {\n",
              "      background-color: #434B5C;\n",
              "      box-shadow: 0px 1px 3px 1px rgba(0, 0, 0, 0.15);\n",
              "      filter: drop-shadow(0px 1px 2px rgba(0, 0, 0, 0.3));\n",
              "      fill: #FFFFFF;\n",
              "    }\n",
              "  </style>\n",
              "\n",
              "      <script>\n",
              "        const buttonEl =\n",
              "          document.querySelector('#df-0340afa9-3577-49df-af63-6b93236e7c86 button.colab-df-convert');\n",
              "        buttonEl.style.display =\n",
              "          google.colab.kernel.accessAllowed ? 'block' : 'none';\n",
              "\n",
              "        async function convertToInteractive(key) {\n",
              "          const element = document.querySelector('#df-0340afa9-3577-49df-af63-6b93236e7c86');\n",
              "          const dataTable =\n",
              "            await google.colab.kernel.invokeFunction('convertToInteractive',\n",
              "                                                     [key], {});\n",
              "          if (!dataTable) return;\n",
              "\n",
              "          const docLinkHtml = 'Like what you see? Visit the ' +\n",
              "            '<a target=\"_blank\" href=https://colab.research.google.com/notebooks/data_table.ipynb>data table notebook</a>'\n",
              "            + ' to learn more about interactive tables.';\n",
              "          element.innerHTML = '';\n",
              "          dataTable['output_type'] = 'display_data';\n",
              "          await google.colab.output.renderOutput(dataTable, element);\n",
              "          const docLink = document.createElement('div');\n",
              "          docLink.innerHTML = docLinkHtml;\n",
              "          element.appendChild(docLink);\n",
              "        }\n",
              "      </script>\n",
              "    </div>\n",
              "  </div>\n",
              "  "
            ],
            "text/plain": [
              "        ID SEX.1\n",
              "3       19    F \n",
              "8       26    M \n",
              "9       27    M \n",
              "14      32    F \n",
              "18      39    F \n",
              "...    ...   ...\n",
              "2451  8747    M \n",
              "2455  8770    M \n",
              "2462  8797    M \n",
              "2469  8838    M \n",
              "2479  8975    F \n",
              "\n",
              "[251 rows x 2 columns]"
            ]
          },
          "execution_count": 47,
          "metadata": {},
          "output_type": "execute_result"
        }
      ],
      "source": [
        "speakers100"
      ]
    },
    {
      "cell_type": "code",
      "execution_count": null,
      "metadata": {
        "colab": {
          "base_uri": "https://localhost:8080/"
        },
        "id": "-5716YiI0BeZ",
        "outputId": "5a0f0966-2a67-4d3c-f2a9-ed7238f18708"
      },
      "outputs": [
        {
          "data": {
            "text/plain": [
              "ID       126\n",
              "SEX.1    126\n",
              "dtype: int64"
            ]
          },
          "execution_count": 48,
          "metadata": {},
          "output_type": "execute_result"
        }
      ],
      "source": [
        "speakers100[speakers100['SEX.1']==' M '].count()"
      ]
    },
    {
      "cell_type": "markdown",
      "source": [
        "Data Cleaning & Preparation"
      ],
      "metadata": {
        "id": "l9iR_e8XwW-p"
      }
    },
    {
      "cell_type": "code",
      "execution_count": null,
      "metadata": {
        "id": "8K2uYF-54_5I"
      },
      "outputs": [],
      "source": [
        "\n",
        "for i in list(speakers100[speakers100['SEX.1']==' M ']['ID']):\n",
        "  for j in os.listdir(\"/content/drive/MyDrive/Fall 2022/Machine Learning/Project/LibriSpeech/train-clean-100/\"+str(i)):\n",
        "    for k in os.listdir(\"/content/drive/MyDrive/Fall 2022/Machine Learning/Project/LibriSpeech/train-clean-100/\"+str(i)+\"/\"+str(j)):\n",
        "      # print(str(k))\n",
        "      if \".txt\" not in str(k):\n",
        "        # print(str(k))\n",
        "        # if cnt!=0:\n",
        "        src=\"/content/drive/MyDrive/Fall 2022/Machine Learning/Project/LibriSpeech/train-clean-100/\"+str(i)+\"/\"+str(j)+\"/\"+str(k)\n",
        "        dest=\"/content/drive/MyDrive/Fall 2022/Machine Learning/Project/LibriSpeech/Male/\"+str(k)\n",
        "        shutil.move(src,dest)\n",
        "        \n",
        "    # print(os.listdir(\"/content/drive/MyDrive/Fall 2022/Machine Learning/Project/LibriSpeech/train-clean-100/\"+str(i)+\"/\"+str(j)))\n",
        "    "
      ]
    },
    {
      "cell_type": "code",
      "execution_count": null,
      "metadata": {
        "id": "FbqwY_prA-3e"
      },
      "outputs": [],
      "source": [
        "for i in list(speakers100[speakers100['SEX.1']==' F ']['ID']):\n",
        "  for j in os.listdir(\"/content/drive/MyDrive/Fall 2022/Machine Learning/Project/LibriSpeech/train-clean-100/\"+str(i)):\n",
        "    for k in os.listdir(\"/content/drive/MyDrive/Fall 2022/Machine Learning/Project/LibriSpeech/train-clean-100/\"+str(i)+\"/\"+str(j)):\n",
        "      # print(str(k))\n",
        "      if \".txt\" not in str(k):\n",
        "        # print(str(k))\n",
        "        # if cnt!=0:\n",
        "        src=\"/content/drive/MyDrive/Fall 2022/Machine Learning/Project/LibriSpeech/train-clean-100/\"+str(i)+\"/\"+str(j)+\"/\"+str(k)\n",
        "        dest=\"/content/drive/MyDrive/Fall 2022/Machine Learning/Project/LibriSpeech/Female/\"+str(k)\n",
        "        shutil.move(src,dest)\n",
        "     \n",
        "        \n",
        "    # print(os.listdir(\"/content/drive/MyDrive/Fall 2022/Machine Learning/Project/LibriSpeech/train-clean-100/\"+str(i)+\"/\"+str(j)))\n",
        "    "
      ]
    },
    {
      "cell_type": "code",
      "execution_count": null,
      "metadata": {
        "colab": {
          "base_uri": "https://localhost:8080/"
        },
        "id": "TaWl-KDYJNGg",
        "outputId": "35b9a2e1-ccab-42da-d34c-26de5eb34f43"
      },
      "outputs": [
        {
          "data": {
            "text/plain": [
              "28539"
            ]
          },
          "execution_count": 11,
          "metadata": {},
          "output_type": "execute_result"
        }
      ],
      "source": [
        "len(os.listdir(\"/content/drive/MyDrive/Fall 2022/Machine Learning/Project/LibriSpeech/maleandfemale\"))"
      ]
    },
    {
      "cell_type": "code",
      "execution_count": null,
      "metadata": {
        "id": "X9D_sKlpJbwY"
      },
      "outputs": [],
      "source": [
        "for i in os.listdir(\"/content/drive/MyDrive/Fall 2022/Machine Learning/Project/LibriSpeech/Female\"):\n",
        "  shutil.copy(\"/content/drive/MyDrive/Fall 2022/Machine Learning/Project/LibriSpeech/Female/\"+str(i),\"/content/drive/MyDrive/Fall 2022/Machine Learning/Project/LibriSpeech/maleandfemale/\")"
      ]
    },
    {
      "cell_type": "code",
      "execution_count": null,
      "metadata": {
        "id": "DOmxsBf6LJiZ"
      },
      "outputs": [],
      "source": [
        "for i in os.listdir(\"/content/drive/MyDrive/Fall 2022/Machine Learning/Project/LibriSpeech/Male\"):\n",
        "  shutil.copy(\"/content/drive/MyDrive/Fall 2022/Machine Learning/Project/LibriSpeech/Male/\"+str(i),\"/content/drive/MyDrive/Fall 2022/Machine Learning/Project/LibriSpeech/maleandfemale/\")"
      ]
    },
    {
      "cell_type": "code",
      "execution_count": null,
      "metadata": {
        "id": "L_BeYC36F-vH"
      },
      "outputs": [],
      "source": [
        "df_female=pd.DataFrame()\n",
        "df_male=pd.DataFrame()"
      ]
    },
    {
      "cell_type": "code",
      "execution_count": null,
      "metadata": {
        "id": "HKEHEEAsEp_u"
      },
      "outputs": [],
      "source": [
        "df_female['file']=list(os.listdir(\"/content/drive/MyDrive/Fall 2022/Machine Learning/Project/LibriSpeech/Female\"))"
      ]
    },
    {
      "cell_type": "code",
      "execution_count": null,
      "metadata": {
        "id": "_B23objBF5KU"
      },
      "outputs": [],
      "source": [
        "df_female['label']='0'"
      ]
    },
    {
      "cell_type": "code",
      "execution_count": null,
      "metadata": {
        "colab": {
          "base_uri": "https://localhost:8080/",
          "height": 206
        },
        "id": "qmF51htCGOkF",
        "outputId": "ec28d406-9dc8-46fe-a578-bf2a2416cafc"
      },
      "outputs": [
        {
          "output_type": "execute_result",
          "data": {
            "text/plain": [
              "                    file label\n",
              "0  1898-145720-0003.flac     0\n",
              "1  1898-145720-0016.flac     0\n",
              "2  1898-145720-0009.flac     0\n",
              "3  1898-145720-0001.flac     0\n",
              "4  1898-145720-0014.flac     0"
            ],
            "text/html": [
              "\n",
              "  <div id=\"df-77afb214-e755-4549-b00e-747ff1b26f4b\">\n",
              "    <div class=\"colab-df-container\">\n",
              "      <div>\n",
              "<style scoped>\n",
              "    .dataframe tbody tr th:only-of-type {\n",
              "        vertical-align: middle;\n",
              "    }\n",
              "\n",
              "    .dataframe tbody tr th {\n",
              "        vertical-align: top;\n",
              "    }\n",
              "\n",
              "    .dataframe thead th {\n",
              "        text-align: right;\n",
              "    }\n",
              "</style>\n",
              "<table border=\"1\" class=\"dataframe\">\n",
              "  <thead>\n",
              "    <tr style=\"text-align: right;\">\n",
              "      <th></th>\n",
              "      <th>file</th>\n",
              "      <th>label</th>\n",
              "    </tr>\n",
              "  </thead>\n",
              "  <tbody>\n",
              "    <tr>\n",
              "      <th>0</th>\n",
              "      <td>1898-145720-0003.flac</td>\n",
              "      <td>0</td>\n",
              "    </tr>\n",
              "    <tr>\n",
              "      <th>1</th>\n",
              "      <td>1898-145720-0016.flac</td>\n",
              "      <td>0</td>\n",
              "    </tr>\n",
              "    <tr>\n",
              "      <th>2</th>\n",
              "      <td>1898-145720-0009.flac</td>\n",
              "      <td>0</td>\n",
              "    </tr>\n",
              "    <tr>\n",
              "      <th>3</th>\n",
              "      <td>1898-145720-0001.flac</td>\n",
              "      <td>0</td>\n",
              "    </tr>\n",
              "    <tr>\n",
              "      <th>4</th>\n",
              "      <td>1898-145720-0014.flac</td>\n",
              "      <td>0</td>\n",
              "    </tr>\n",
              "  </tbody>\n",
              "</table>\n",
              "</div>\n",
              "      <button class=\"colab-df-convert\" onclick=\"convertToInteractive('df-77afb214-e755-4549-b00e-747ff1b26f4b')\"\n",
              "              title=\"Convert this dataframe to an interactive table.\"\n",
              "              style=\"display:none;\">\n",
              "        \n",
              "  <svg xmlns=\"http://www.w3.org/2000/svg\" height=\"24px\"viewBox=\"0 0 24 24\"\n",
              "       width=\"24px\">\n",
              "    <path d=\"M0 0h24v24H0V0z\" fill=\"none\"/>\n",
              "    <path d=\"M18.56 5.44l.94 2.06.94-2.06 2.06-.94-2.06-.94-.94-2.06-.94 2.06-2.06.94zm-11 1L8.5 8.5l.94-2.06 2.06-.94-2.06-.94L8.5 2.5l-.94 2.06-2.06.94zm10 10l.94 2.06.94-2.06 2.06-.94-2.06-.94-.94-2.06-.94 2.06-2.06.94z\"/><path d=\"M17.41 7.96l-1.37-1.37c-.4-.4-.92-.59-1.43-.59-.52 0-1.04.2-1.43.59L10.3 9.45l-7.72 7.72c-.78.78-.78 2.05 0 2.83L4 21.41c.39.39.9.59 1.41.59.51 0 1.02-.2 1.41-.59l7.78-7.78 2.81-2.81c.8-.78.8-2.07 0-2.86zM5.41 20L4 18.59l7.72-7.72 1.47 1.35L5.41 20z\"/>\n",
              "  </svg>\n",
              "      </button>\n",
              "      \n",
              "  <style>\n",
              "    .colab-df-container {\n",
              "      display:flex;\n",
              "      flex-wrap:wrap;\n",
              "      gap: 12px;\n",
              "    }\n",
              "\n",
              "    .colab-df-convert {\n",
              "      background-color: #E8F0FE;\n",
              "      border: none;\n",
              "      border-radius: 50%;\n",
              "      cursor: pointer;\n",
              "      display: none;\n",
              "      fill: #1967D2;\n",
              "      height: 32px;\n",
              "      padding: 0 0 0 0;\n",
              "      width: 32px;\n",
              "    }\n",
              "\n",
              "    .colab-df-convert:hover {\n",
              "      background-color: #E2EBFA;\n",
              "      box-shadow: 0px 1px 2px rgba(60, 64, 67, 0.3), 0px 1px 3px 1px rgba(60, 64, 67, 0.15);\n",
              "      fill: #174EA6;\n",
              "    }\n",
              "\n",
              "    [theme=dark] .colab-df-convert {\n",
              "      background-color: #3B4455;\n",
              "      fill: #D2E3FC;\n",
              "    }\n",
              "\n",
              "    [theme=dark] .colab-df-convert:hover {\n",
              "      background-color: #434B5C;\n",
              "      box-shadow: 0px 1px 3px 1px rgba(0, 0, 0, 0.15);\n",
              "      filter: drop-shadow(0px 1px 2px rgba(0, 0, 0, 0.3));\n",
              "      fill: #FFFFFF;\n",
              "    }\n",
              "  </style>\n",
              "\n",
              "      <script>\n",
              "        const buttonEl =\n",
              "          document.querySelector('#df-77afb214-e755-4549-b00e-747ff1b26f4b button.colab-df-convert');\n",
              "        buttonEl.style.display =\n",
              "          google.colab.kernel.accessAllowed ? 'block' : 'none';\n",
              "\n",
              "        async function convertToInteractive(key) {\n",
              "          const element = document.querySelector('#df-77afb214-e755-4549-b00e-747ff1b26f4b');\n",
              "          const dataTable =\n",
              "            await google.colab.kernel.invokeFunction('convertToInteractive',\n",
              "                                                     [key], {});\n",
              "          if (!dataTable) return;\n",
              "\n",
              "          const docLinkHtml = 'Like what you see? Visit the ' +\n",
              "            '<a target=\"_blank\" href=https://colab.research.google.com/notebooks/data_table.ipynb>data table notebook</a>'\n",
              "            + ' to learn more about interactive tables.';\n",
              "          element.innerHTML = '';\n",
              "          dataTable['output_type'] = 'display_data';\n",
              "          await google.colab.output.renderOutput(dataTable, element);\n",
              "          const docLink = document.createElement('div');\n",
              "          docLink.innerHTML = docLinkHtml;\n",
              "          element.appendChild(docLink);\n",
              "        }\n",
              "      </script>\n",
              "    </div>\n",
              "  </div>\n",
              "  "
            ]
          },
          "metadata": {},
          "execution_count": 6
        }
      ],
      "source": [
        "df_female.head()"
      ]
    },
    {
      "cell_type": "code",
      "execution_count": null,
      "metadata": {
        "id": "sE642BtwGbGu"
      },
      "outputs": [],
      "source": [
        "df_male['file']=list(os.listdir(\"/content/drive/MyDrive/Fall 2022/Machine Learning/Project/LibriSpeech/Male\"))"
      ]
    },
    {
      "cell_type": "code",
      "execution_count": null,
      "metadata": {
        "id": "qyjR4hgmG5Gg"
      },
      "outputs": [],
      "source": [
        "df_male['label']='1'"
      ]
    },
    {
      "cell_type": "code",
      "execution_count": null,
      "metadata": {
        "colab": {
          "base_uri": "https://localhost:8080/",
          "height": 206
        },
        "id": "1zGYpAkNG-ZO",
        "outputId": "e1259830-155c-4fff-822c-8dd2c121ccc8"
      },
      "outputs": [
        {
          "output_type": "execute_result",
          "data": {
            "text/plain": [
              "                    file label\n",
              "0  2289-152258-0014.flac     1\n",
              "1  2289-152258-0037.flac     1\n",
              "2  2289-152258-0036.flac     1\n",
              "3  2289-152258-0020.flac     1\n",
              "4  2289-152258-0039.flac     1"
            ],
            "text/html": [
              "\n",
              "  <div id=\"df-62d63bee-3493-490b-8b48-b876b6d8b692\">\n",
              "    <div class=\"colab-df-container\">\n",
              "      <div>\n",
              "<style scoped>\n",
              "    .dataframe tbody tr th:only-of-type {\n",
              "        vertical-align: middle;\n",
              "    }\n",
              "\n",
              "    .dataframe tbody tr th {\n",
              "        vertical-align: top;\n",
              "    }\n",
              "\n",
              "    .dataframe thead th {\n",
              "        text-align: right;\n",
              "    }\n",
              "</style>\n",
              "<table border=\"1\" class=\"dataframe\">\n",
              "  <thead>\n",
              "    <tr style=\"text-align: right;\">\n",
              "      <th></th>\n",
              "      <th>file</th>\n",
              "      <th>label</th>\n",
              "    </tr>\n",
              "  </thead>\n",
              "  <tbody>\n",
              "    <tr>\n",
              "      <th>0</th>\n",
              "      <td>2289-152258-0014.flac</td>\n",
              "      <td>1</td>\n",
              "    </tr>\n",
              "    <tr>\n",
              "      <th>1</th>\n",
              "      <td>2289-152258-0037.flac</td>\n",
              "      <td>1</td>\n",
              "    </tr>\n",
              "    <tr>\n",
              "      <th>2</th>\n",
              "      <td>2289-152258-0036.flac</td>\n",
              "      <td>1</td>\n",
              "    </tr>\n",
              "    <tr>\n",
              "      <th>3</th>\n",
              "      <td>2289-152258-0020.flac</td>\n",
              "      <td>1</td>\n",
              "    </tr>\n",
              "    <tr>\n",
              "      <th>4</th>\n",
              "      <td>2289-152258-0039.flac</td>\n",
              "      <td>1</td>\n",
              "    </tr>\n",
              "  </tbody>\n",
              "</table>\n",
              "</div>\n",
              "      <button class=\"colab-df-convert\" onclick=\"convertToInteractive('df-62d63bee-3493-490b-8b48-b876b6d8b692')\"\n",
              "              title=\"Convert this dataframe to an interactive table.\"\n",
              "              style=\"display:none;\">\n",
              "        \n",
              "  <svg xmlns=\"http://www.w3.org/2000/svg\" height=\"24px\"viewBox=\"0 0 24 24\"\n",
              "       width=\"24px\">\n",
              "    <path d=\"M0 0h24v24H0V0z\" fill=\"none\"/>\n",
              "    <path d=\"M18.56 5.44l.94 2.06.94-2.06 2.06-.94-2.06-.94-.94-2.06-.94 2.06-2.06.94zm-11 1L8.5 8.5l.94-2.06 2.06-.94-2.06-.94L8.5 2.5l-.94 2.06-2.06.94zm10 10l.94 2.06.94-2.06 2.06-.94-2.06-.94-.94-2.06-.94 2.06-2.06.94z\"/><path d=\"M17.41 7.96l-1.37-1.37c-.4-.4-.92-.59-1.43-.59-.52 0-1.04.2-1.43.59L10.3 9.45l-7.72 7.72c-.78.78-.78 2.05 0 2.83L4 21.41c.39.39.9.59 1.41.59.51 0 1.02-.2 1.41-.59l7.78-7.78 2.81-2.81c.8-.78.8-2.07 0-2.86zM5.41 20L4 18.59l7.72-7.72 1.47 1.35L5.41 20z\"/>\n",
              "  </svg>\n",
              "      </button>\n",
              "      \n",
              "  <style>\n",
              "    .colab-df-container {\n",
              "      display:flex;\n",
              "      flex-wrap:wrap;\n",
              "      gap: 12px;\n",
              "    }\n",
              "\n",
              "    .colab-df-convert {\n",
              "      background-color: #E8F0FE;\n",
              "      border: none;\n",
              "      border-radius: 50%;\n",
              "      cursor: pointer;\n",
              "      display: none;\n",
              "      fill: #1967D2;\n",
              "      height: 32px;\n",
              "      padding: 0 0 0 0;\n",
              "      width: 32px;\n",
              "    }\n",
              "\n",
              "    .colab-df-convert:hover {\n",
              "      background-color: #E2EBFA;\n",
              "      box-shadow: 0px 1px 2px rgba(60, 64, 67, 0.3), 0px 1px 3px 1px rgba(60, 64, 67, 0.15);\n",
              "      fill: #174EA6;\n",
              "    }\n",
              "\n",
              "    [theme=dark] .colab-df-convert {\n",
              "      background-color: #3B4455;\n",
              "      fill: #D2E3FC;\n",
              "    }\n",
              "\n",
              "    [theme=dark] .colab-df-convert:hover {\n",
              "      background-color: #434B5C;\n",
              "      box-shadow: 0px 1px 3px 1px rgba(0, 0, 0, 0.15);\n",
              "      filter: drop-shadow(0px 1px 2px rgba(0, 0, 0, 0.3));\n",
              "      fill: #FFFFFF;\n",
              "    }\n",
              "  </style>\n",
              "\n",
              "      <script>\n",
              "        const buttonEl =\n",
              "          document.querySelector('#df-62d63bee-3493-490b-8b48-b876b6d8b692 button.colab-df-convert');\n",
              "        buttonEl.style.display =\n",
              "          google.colab.kernel.accessAllowed ? 'block' : 'none';\n",
              "\n",
              "        async function convertToInteractive(key) {\n",
              "          const element = document.querySelector('#df-62d63bee-3493-490b-8b48-b876b6d8b692');\n",
              "          const dataTable =\n",
              "            await google.colab.kernel.invokeFunction('convertToInteractive',\n",
              "                                                     [key], {});\n",
              "          if (!dataTable) return;\n",
              "\n",
              "          const docLinkHtml = 'Like what you see? Visit the ' +\n",
              "            '<a target=\"_blank\" href=https://colab.research.google.com/notebooks/data_table.ipynb>data table notebook</a>'\n",
              "            + ' to learn more about interactive tables.';\n",
              "          element.innerHTML = '';\n",
              "          dataTable['output_type'] = 'display_data';\n",
              "          await google.colab.output.renderOutput(dataTable, element);\n",
              "          const docLink = document.createElement('div');\n",
              "          docLink.innerHTML = docLinkHtml;\n",
              "          element.appendChild(docLink);\n",
              "        }\n",
              "      </script>\n",
              "    </div>\n",
              "  </div>\n",
              "  "
            ]
          },
          "metadata": {},
          "execution_count": 9
        }
      ],
      "source": [
        "df_male.head()"
      ]
    },
    {
      "cell_type": "code",
      "execution_count": null,
      "metadata": {
        "id": "g0_GdnJuHBmD"
      },
      "outputs": [],
      "source": [
        "df_female = df_female.reset_index(drop=True)"
      ]
    },
    {
      "cell_type": "code",
      "execution_count": null,
      "metadata": {
        "id": "qKmmFgdjEcJU"
      },
      "outputs": [],
      "source": [
        "drop_indices = np.random.choice(df_male.index, 9000, replace=False)\n",
        "df_male = df_male.drop(drop_indices)"
      ]
    },
    {
      "cell_type": "code",
      "execution_count": null,
      "metadata": {
        "id": "JJv00td_Eu_C"
      },
      "outputs": [],
      "source": [
        "drop_indices = np.random.choice(df_female.index, 9000, replace=False)\n",
        "df_female = df_female.drop(drop_indices)"
      ]
    },
    {
      "cell_type": "code",
      "execution_count": null,
      "metadata": {
        "id": "yMdqvPVDHlci"
      },
      "outputs": [],
      "source": [
        "df = pd.concat([df_female, df_male], ignore_index=True)"
      ]
    },
    {
      "cell_type": "code",
      "execution_count": null,
      "metadata": {
        "id": "6TQ-OliQHu6s"
      },
      "outputs": [],
      "source": [
        "df = df.sample(frac=1, random_state=17).reset_index(drop=True)"
      ]
    },
    {
      "cell_type": "code",
      "execution_count": null,
      "metadata": {
        "colab": {
          "base_uri": "https://localhost:8080/"
        },
        "id": "rP3GqRESHw9r",
        "outputId": "92761ee7-12af-4f3b-9f4c-6fbb9198044d"
      },
      "outputs": [
        {
          "output_type": "execute_result",
          "data": {
            "text/plain": [
              "(10539, 2)"
            ]
          },
          "metadata": {},
          "execution_count": 15
        }
      ],
      "source": [
        "df.shape"
      ]
    },
    {
      "cell_type": "code",
      "execution_count": null,
      "metadata": {
        "colab": {
          "base_uri": "https://localhost:8080/"
        },
        "id": "YV042EC-H7Qc",
        "outputId": "a3afe8ad-f254-4ad0-fa8f-7da03311aa99"
      },
      "outputs": [
        {
          "output_type": "execute_result",
          "data": {
            "text/plain": [
              "0    5342\n",
              "1    5197\n",
              "Name: label, dtype: int64"
            ]
          },
          "metadata": {},
          "execution_count": 16
        }
      ],
      "source": [
        "df['label'].value_counts()\n"
      ]
    },
    {
      "cell_type": "code",
      "execution_count": null,
      "metadata": {
        "id": "NbeEI0DlIHw8"
      },
      "outputs": [],
      "source": [
        "df_train=df[:7000]"
      ]
    },
    {
      "cell_type": "code",
      "execution_count": null,
      "metadata": {
        "colab": {
          "base_uri": "https://localhost:8080/"
        },
        "id": "JsDaQrB9IiWl",
        "outputId": "c8b3e514-b24a-4e9c-bca3-a35e2b0f9ffa"
      },
      "outputs": [
        {
          "output_type": "execute_result",
          "data": {
            "text/plain": [
              "0    0.514714\n",
              "1    0.485286\n",
              "Name: label, dtype: float64"
            ]
          },
          "metadata": {},
          "execution_count": 18
        }
      ],
      "source": [
        "df_train['label'].value_counts(normalize=True)"
      ]
    },
    {
      "cell_type": "code",
      "execution_count": null,
      "metadata": {
        "colab": {
          "base_uri": "https://localhost:8080/"
        },
        "id": "5RvQeKfZFZ9N",
        "outputId": "08d7e917-6144-4629-de37-8e95c2a62136"
      },
      "outputs": [
        {
          "output_type": "execute_result",
          "data": {
            "text/plain": [
              "(10539, 2)"
            ]
          },
          "metadata": {},
          "execution_count": 19
        }
      ],
      "source": [
        "df.shape"
      ]
    },
    {
      "cell_type": "code",
      "execution_count": null,
      "metadata": {
        "id": "5yszu0BcIjc2"
      },
      "outputs": [],
      "source": [
        "df_test=df[7000:]"
      ]
    },
    {
      "cell_type": "code",
      "execution_count": null,
      "metadata": {
        "colab": {
          "base_uri": "https://localhost:8080/"
        },
        "id": "4bL_G73sIq5N",
        "outputId": "b2faa05f-3b27-41fa-c990-99305890fcbc"
      },
      "outputs": [
        {
          "output_type": "execute_result",
          "data": {
            "text/plain": [
              "1    0.508618\n",
              "0    0.491382\n",
              "Name: label, dtype: float64"
            ]
          },
          "metadata": {},
          "execution_count": 21
        }
      ],
      "source": [
        "df_test['label'].value_counts(normalize=True)"
      ]
    },
    {
      "cell_type": "markdown",
      "source": [
        "Feature Extraction & Selection from Input Audio"
      ],
      "metadata": {
        "id": "gEXWI7Ddz0wK"
      }
    },
    {
      "cell_type": "code",
      "execution_count": null,
      "metadata": {
        "id": "s7PEB5UMIs8m"
      },
      "outputs": [],
      "source": [
        "def extract_features(files):\n",
        "    \n",
        "    # Sets the name to be the path to where the file is in my computer\n",
        "    file_name = os.path.join(\"/content/drive/MyDrive/Fall 2022/Machine Learning/Project/LibriSpeech/maleandfemale/\"+str(files.file))\n",
        "\n",
        "    # Loads the audio file as a floating point time series and assigns the default sample rate\n",
        "    # Sample rate is set to 22050 by default\n",
        "    X, sample_rate = librosa.load(file_name, res_type='kaiser_fast') \n",
        "\n",
        "    # Generate Mel-frequency cepstral coefficients (MFCCs) from a time series \n",
        "    mfccs = np.mean(librosa.feature.mfcc(y=X, sr=sample_rate, n_mfcc=40).T,axis=0)\n",
        "\n",
        "    # Generates a Short-time Fourier transform (STFT) to use in the chroma_stft\n",
        "    stft = np.abs(librosa.stft(X))\n",
        "\n",
        "    # Computes a chromagram from a waveform or power spectrogram.\n",
        "    chroma = np.mean(librosa.feature.chroma_stft(S=stft, sr=sample_rate).T,axis=0)\n",
        "\n",
        "    # Computes a mel-scaled spectrogram.\n",
        "    mel = np.mean(librosa.feature.melspectrogram(X, sr=sample_rate).T,axis=0)\n",
        "\n",
        "    # Computes spectral contrast\n",
        "    contrast = np.mean(librosa.feature.spectral_contrast(S=stft, sr=sample_rate).T,axis=0)\n",
        "\n",
        "    # Computes the tonal centroid features (tonnetz)\n",
        "    tonnetz = np.mean(librosa.feature.tonnetz(y=librosa.effects.harmonic(X),\n",
        "    sr=sample_rate).T,axis=0)\n",
        "        \n",
        "    \n",
        "    # We add also the classes of each file as a label at the end\n",
        "    label = files.label\n",
        "\n",
        "    return mfccs, chroma, mel, contrast, tonnetz, label"
      ]
    },
    {
      "cell_type": "code",
      "execution_count": null,
      "metadata": {
        "colab": {
          "base_uri": "https://localhost:8080/"
        },
        "id": "ZlZo38MoV7G0",
        "outputId": "a27723f8-64e7-4985-b436-38967a80d88a"
      },
      "outputs": [
        {
          "output_type": "execute_result",
          "data": {
            "text/plain": [
              "(10539, 2)"
            ]
          },
          "metadata": {},
          "execution_count": 23
        }
      ],
      "source": [
        "df.shape"
      ]
    },
    {
      "cell_type": "code",
      "execution_count": null,
      "metadata": {
        "id": "H898TBApWVAq"
      },
      "outputs": [],
      "source": [
        "drop_indices = np.random.choice(df.index, 10000, replace=False)\n",
        "df_subset = df.drop(drop_indices)"
      ]
    },
    {
      "cell_type": "code",
      "execution_count": null,
      "metadata": {
        "colab": {
          "base_uri": "https://localhost:8080/"
        },
        "id": "QI4loGZHW1sV",
        "outputId": "90146032-3c00-4c91-b520-e1e17730eedc"
      },
      "outputs": [
        {
          "output_type": "execute_result",
          "data": {
            "text/plain": [
              "(539, 2)"
            ]
          },
          "metadata": {},
          "execution_count": 25
        }
      ],
      "source": [
        "df_subset.shape"
      ]
    },
    {
      "cell_type": "code",
      "execution_count": null,
      "metadata": {
        "id": "xBFKC-ShI2LB"
      },
      "outputs": [],
      "source": [
        "startTime = datetime.now()"
      ]
    },
    {
      "cell_type": "code",
      "execution_count": null,
      "metadata": {
        "colab": {
          "base_uri": "https://localhost:8080/"
        },
        "id": "eIfKfhUZI6J5",
        "outputId": "c33891be-5bc7-4de8-bf55-56e63f528de4"
      },
      "outputs": [
        {
          "name": "stderr",
          "output_type": "stream",
          "text": [
            "/usr/local/lib/python3.7/dist-packages/librosa/core/spectrum.py:224: UserWarning: n_fft=1024 is too small for input signal of length=612\n",
            "  n_fft, y.shape[-1]\n",
            "/usr/local/lib/python3.7/dist-packages/librosa/core/spectrum.py:224: UserWarning: n_fft=1024 is too small for input signal of length=898\n",
            "  n_fft, y.shape[-1]\n",
            "/usr/local/lib/python3.7/dist-packages/librosa/core/spectrum.py:224: UserWarning: n_fft=1024 is too small for input signal of length=1012\n",
            "  n_fft, y.shape[-1]\n",
            "/usr/local/lib/python3.7/dist-packages/librosa/core/spectrum.py:224: UserWarning: n_fft=1024 is too small for input signal of length=993\n",
            "  n_fft, y.shape[-1]\n",
            "/usr/local/lib/python3.7/dist-packages/librosa/core/spectrum.py:224: UserWarning: n_fft=1024 is too small for input signal of length=1019\n",
            "  n_fft, y.shape[-1]\n",
            "/usr/local/lib/python3.7/dist-packages/librosa/core/spectrum.py:224: UserWarning: n_fft=1024 is too small for input signal of length=729\n",
            "  n_fft, y.shape[-1]\n",
            "/usr/local/lib/python3.7/dist-packages/librosa/core/spectrum.py:224: UserWarning: n_fft=1024 is too small for input signal of length=817\n",
            "  n_fft, y.shape[-1]\n",
            "/usr/local/lib/python3.7/dist-packages/librosa/core/spectrum.py:224: UserWarning: n_fft=1024 is too small for input signal of length=896\n",
            "  n_fft, y.shape[-1]\n",
            "/usr/local/lib/python3.7/dist-packages/librosa/core/spectrum.py:224: UserWarning: n_fft=1024 is too small for input signal of length=986\n",
            "  n_fft, y.shape[-1]\n",
            "/usr/local/lib/python3.7/dist-packages/librosa/core/spectrum.py:224: UserWarning: n_fft=1024 is too small for input signal of length=936\n",
            "  n_fft, y.shape[-1]\n",
            "/usr/local/lib/python3.7/dist-packages/librosa/core/spectrum.py:224: UserWarning: n_fft=1024 is too small for input signal of length=884\n",
            "  n_fft, y.shape[-1]\n"
          ]
        }
      ],
      "source": [
        "features_label = df_subset.apply(extract_features, axis=1)\n"
      ]
    },
    {
      "cell_type": "code",
      "execution_count": null,
      "metadata": {
        "colab": {
          "base_uri": "https://localhost:8080/"
        },
        "id": "QF_RABorI-iA",
        "outputId": "80508e04-8a0d-4c4b-e51b-864b9ed0f12d"
      },
      "outputs": [
        {
          "name": "stdout",
          "output_type": "stream",
          "text": [
            "0:15:53.422310\n"
          ]
        }
      ],
      "source": [
        "print(datetime.now() - startTime)\n"
      ]
    },
    {
      "cell_type": "code",
      "execution_count": null,
      "metadata": {
        "colab": {
          "base_uri": "https://localhost:8080/"
        },
        "id": "6pp_s3DCX483",
        "outputId": "7f4fc1a0-0d58-40d6-d3c1-e4233cad13c9"
      },
      "outputs": [
        {
          "data": {
            "text/plain": [
              "30       ([-271.36984, 109.30865, -11.147105, 55.75176,...\n",
              "35       ([-356.24713, 117.74792, -20.61871, 53.373775,...\n",
              "43       ([-356.56638, 125.60432, -19.42103, 49.58623, ...\n",
              "62       ([-372.0414, 121.59108, -23.465412, 48.68072, ...\n",
              "68       ([-299.20856, 106.139694, -68.01519, 55.931995...\n",
              "                               ...                        \n",
              "10426    ([-349.39972, 119.285706, -11.72259, 39.146786...\n",
              "10430    ([-335.60645, 119.75961, -6.823327, 22.510221,...\n",
              "10446    ([-326.68124, 99.82111, -46.38306, 65.31979, -...\n",
              "10453    ([-383.33243, 83.17231, -2.470317, 43.861877, ...\n",
              "10460    ([-293.76846, 128.98415, -22.462791, 51.15582,...\n",
              "Length: 539, dtype: object"
            ]
          },
          "execution_count": 28,
          "metadata": {},
          "output_type": "execute_result"
        }
      ],
      "source": [
        "features_label"
      ]
    },
    {
      "cell_type": "code",
      "execution_count": null,
      "metadata": {
        "id": "pdzpB0YrX-X9"
      },
      "outputs": [],
      "source": [
        "s = datetime.now()"
      ]
    },
    {
      "cell_type": "code",
      "execution_count": null,
      "metadata": {
        "colab": {
          "base_uri": "https://localhost:8080/"
        },
        "id": "n8bN0HZpYFat",
        "outputId": "67c941a0-c1e1-454c-cf84-b4f79993efc7"
      },
      "outputs": [
        {
          "output_type": "stream",
          "name": "stderr",
          "text": [
            "/usr/local/lib/python3.7/dist-packages/librosa/core/spectrum.py:224: UserWarning: n_fft=1024 is too small for input signal of length=826\n",
            "  n_fft, y.shape[-1]\n",
            "/usr/local/lib/python3.7/dist-packages/librosa/core/spectrum.py:224: UserWarning: n_fft=1024 is too small for input signal of length=793\n",
            "  n_fft, y.shape[-1]\n",
            "/usr/local/lib/python3.7/dist-packages/librosa/core/spectrum.py:224: UserWarning: n_fft=1024 is too small for input signal of length=977\n",
            "  n_fft, y.shape[-1]\n",
            "/usr/local/lib/python3.7/dist-packages/librosa/core/spectrum.py:224: UserWarning: n_fft=1024 is too small for input signal of length=960\n",
            "  n_fft, y.shape[-1]\n",
            "/usr/local/lib/python3.7/dist-packages/librosa/core/spectrum.py:224: UserWarning: n_fft=1024 is too small for input signal of length=969\n",
            "  n_fft, y.shape[-1]\n",
            "/usr/local/lib/python3.7/dist-packages/librosa/core/spectrum.py:224: UserWarning: n_fft=1024 is too small for input signal of length=981\n",
            "  n_fft, y.shape[-1]\n",
            "/usr/local/lib/python3.7/dist-packages/librosa/core/spectrum.py:224: UserWarning: n_fft=1024 is too small for input signal of length=1001\n",
            "  n_fft, y.shape[-1]\n",
            "/usr/local/lib/python3.7/dist-packages/librosa/core/spectrum.py:224: UserWarning: n_fft=1024 is too small for input signal of length=870\n",
            "  n_fft, y.shape[-1]\n",
            "/usr/local/lib/python3.7/dist-packages/librosa/core/spectrum.py:224: UserWarning: n_fft=1024 is too small for input signal of length=877\n",
            "  n_fft, y.shape[-1]\n",
            "/usr/local/lib/python3.7/dist-packages/librosa/core/spectrum.py:224: UserWarning: n_fft=1024 is too small for input signal of length=731\n",
            "  n_fft, y.shape[-1]\n",
            "/usr/local/lib/python3.7/dist-packages/librosa/core/spectrum.py:224: UserWarning: n_fft=1024 is too small for input signal of length=867\n",
            "  n_fft, y.shape[-1]\n",
            "/usr/local/lib/python3.7/dist-packages/librosa/core/spectrum.py:224: UserWarning: n_fft=1024 is too small for input signal of length=976\n",
            "  n_fft, y.shape[-1]\n",
            "/usr/local/lib/python3.7/dist-packages/librosa/core/spectrum.py:224: UserWarning: n_fft=1024 is too small for input signal of length=951\n",
            "  n_fft, y.shape[-1]\n",
            "/usr/local/lib/python3.7/dist-packages/librosa/core/spectrum.py:224: UserWarning: n_fft=1024 is too small for input signal of length=845\n",
            "  n_fft, y.shape[-1]\n",
            "/usr/local/lib/python3.7/dist-packages/librosa/core/spectrum.py:224: UserWarning: n_fft=1024 is too small for input signal of length=857\n",
            "  n_fft, y.shape[-1]\n",
            "/usr/local/lib/python3.7/dist-packages/librosa/core/spectrum.py:224: UserWarning: n_fft=1024 is too small for input signal of length=1012\n",
            "  n_fft, y.shape[-1]\n",
            "/usr/local/lib/python3.7/dist-packages/librosa/core/spectrum.py:224: UserWarning: n_fft=1024 is too small for input signal of length=926\n",
            "  n_fft, y.shape[-1]\n",
            "/usr/local/lib/python3.7/dist-packages/librosa/core/spectrum.py:224: UserWarning: n_fft=1024 is too small for input signal of length=772\n",
            "  n_fft, y.shape[-1]\n",
            "/usr/local/lib/python3.7/dist-packages/librosa/core/spectrum.py:224: UserWarning: n_fft=1024 is too small for input signal of length=853\n",
            "  n_fft, y.shape[-1]\n",
            "/usr/local/lib/python3.7/dist-packages/librosa/core/spectrum.py:224: UserWarning: n_fft=1024 is too small for input signal of length=812\n",
            "  n_fft, y.shape[-1]\n",
            "/usr/local/lib/python3.7/dist-packages/librosa/core/spectrum.py:224: UserWarning: n_fft=1024 is too small for input signal of length=691\n",
            "  n_fft, y.shape[-1]\n",
            "/usr/local/lib/python3.7/dist-packages/librosa/core/spectrum.py:224: UserWarning: n_fft=1024 is too small for input signal of length=762\n",
            "  n_fft, y.shape[-1]\n",
            "/usr/local/lib/python3.7/dist-packages/librosa/core/spectrum.py:224: UserWarning: n_fft=1024 is too small for input signal of length=838\n",
            "  n_fft, y.shape[-1]\n",
            "/usr/local/lib/python3.7/dist-packages/librosa/core/spectrum.py:224: UserWarning: n_fft=1024 is too small for input signal of length=962\n",
            "  n_fft, y.shape[-1]\n",
            "/usr/local/lib/python3.7/dist-packages/librosa/core/spectrum.py:224: UserWarning: n_fft=1024 is too small for input signal of length=850\n",
            "  n_fft, y.shape[-1]\n",
            "/usr/local/lib/python3.7/dist-packages/librosa/core/spectrum.py:224: UserWarning: n_fft=1024 is too small for input signal of length=820\n",
            "  n_fft, y.shape[-1]\n",
            "/usr/local/lib/python3.7/dist-packages/librosa/core/spectrum.py:224: UserWarning: n_fft=1024 is too small for input signal of length=784\n",
            "  n_fft, y.shape[-1]\n",
            "/usr/local/lib/python3.7/dist-packages/librosa/core/spectrum.py:224: UserWarning: n_fft=1024 is too small for input signal of length=839\n",
            "  n_fft, y.shape[-1]\n",
            "/usr/local/lib/python3.7/dist-packages/librosa/core/spectrum.py:224: UserWarning: n_fft=1024 is too small for input signal of length=798\n",
            "  n_fft, y.shape[-1]\n",
            "/usr/local/lib/python3.7/dist-packages/librosa/core/spectrum.py:224: UserWarning: n_fft=1024 is too small for input signal of length=719\n",
            "  n_fft, y.shape[-1]\n",
            "/usr/local/lib/python3.7/dist-packages/librosa/core/spectrum.py:224: UserWarning: n_fft=1024 is too small for input signal of length=914\n",
            "  n_fft, y.shape[-1]\n",
            "/usr/local/lib/python3.7/dist-packages/librosa/core/spectrum.py:224: UserWarning: n_fft=1024 is too small for input signal of length=752\n",
            "  n_fft, y.shape[-1]\n",
            "/usr/local/lib/python3.7/dist-packages/librosa/core/spectrum.py:224: UserWarning: n_fft=1024 is too small for input signal of length=984\n",
            "  n_fft, y.shape[-1]\n",
            "/usr/local/lib/python3.7/dist-packages/librosa/core/spectrum.py:224: UserWarning: n_fft=1024 is too small for input signal of length=1015\n",
            "  n_fft, y.shape[-1]\n",
            "/usr/local/lib/python3.7/dist-packages/librosa/core/spectrum.py:224: UserWarning: n_fft=1024 is too small for input signal of length=986\n",
            "  n_fft, y.shape[-1]\n",
            "/usr/local/lib/python3.7/dist-packages/librosa/core/spectrum.py:224: UserWarning: n_fft=1024 is too small for input signal of length=955\n",
            "  n_fft, y.shape[-1]\n",
            "/usr/local/lib/python3.7/dist-packages/librosa/core/spectrum.py:224: UserWarning: n_fft=1024 is too small for input signal of length=889\n",
            "  n_fft, y.shape[-1]\n",
            "/usr/local/lib/python3.7/dist-packages/librosa/core/spectrum.py:224: UserWarning: n_fft=1024 is too small for input signal of length=726\n",
            "  n_fft, y.shape[-1]\n",
            "/usr/local/lib/python3.7/dist-packages/librosa/core/spectrum.py:224: UserWarning: n_fft=1024 is too small for input signal of length=738\n",
            "  n_fft, y.shape[-1]\n",
            "/usr/local/lib/python3.7/dist-packages/librosa/core/spectrum.py:224: UserWarning: n_fft=1024 is too small for input signal of length=597\n",
            "  n_fft, y.shape[-1]\n",
            "/usr/local/lib/python3.7/dist-packages/librosa/core/spectrum.py:224: UserWarning: n_fft=1024 is too small for input signal of length=945\n",
            "  n_fft, y.shape[-1]\n",
            "/usr/local/lib/python3.7/dist-packages/librosa/core/spectrum.py:224: UserWarning: n_fft=1024 is too small for input signal of length=758\n",
            "  n_fft, y.shape[-1]\n",
            "/usr/local/lib/python3.7/dist-packages/librosa/core/spectrum.py:224: UserWarning: n_fft=1024 is too small for input signal of length=996\n",
            "  n_fft, y.shape[-1]\n",
            "/usr/local/lib/python3.7/dist-packages/librosa/core/spectrum.py:224: UserWarning: n_fft=1024 is too small for input signal of length=876\n",
            "  n_fft, y.shape[-1]\n",
            "/usr/local/lib/python3.7/dist-packages/librosa/core/spectrum.py:224: UserWarning: n_fft=1024 is too small for input signal of length=1022\n",
            "  n_fft, y.shape[-1]\n",
            "/usr/local/lib/python3.7/dist-packages/librosa/core/spectrum.py:224: UserWarning: n_fft=1024 is too small for input signal of length=898\n",
            "  n_fft, y.shape[-1]\n",
            "/usr/local/lib/python3.7/dist-packages/librosa/core/spectrum.py:224: UserWarning: n_fft=1024 is too small for input signal of length=917\n",
            "  n_fft, y.shape[-1]\n",
            "/usr/local/lib/python3.7/dist-packages/librosa/core/spectrum.py:224: UserWarning: n_fft=1024 is too small for input signal of length=822\n",
            "  n_fft, y.shape[-1]\n",
            "/usr/local/lib/python3.7/dist-packages/librosa/core/spectrum.py:224: UserWarning: n_fft=1024 is too small for input signal of length=819\n",
            "  n_fft, y.shape[-1]\n",
            "/usr/local/lib/python3.7/dist-packages/librosa/core/spectrum.py:224: UserWarning: n_fft=1024 is too small for input signal of length=807\n",
            "  n_fft, y.shape[-1]\n",
            "/usr/local/lib/python3.7/dist-packages/librosa/core/spectrum.py:224: UserWarning: n_fft=1024 is too small for input signal of length=851\n",
            "  n_fft, y.shape[-1]\n",
            "/usr/local/lib/python3.7/dist-packages/librosa/core/spectrum.py:224: UserWarning: n_fft=1024 is too small for input signal of length=755\n",
            "  n_fft, y.shape[-1]\n",
            "/usr/local/lib/python3.7/dist-packages/librosa/core/spectrum.py:224: UserWarning: n_fft=1024 is too small for input signal of length=946\n",
            "  n_fft, y.shape[-1]\n",
            "/usr/local/lib/python3.7/dist-packages/librosa/core/spectrum.py:224: UserWarning: n_fft=1024 is too small for input signal of length=882\n",
            "  n_fft, y.shape[-1]\n",
            "/usr/local/lib/python3.7/dist-packages/librosa/core/spectrum.py:224: UserWarning: n_fft=1024 is too small for input signal of length=817\n",
            "  n_fft, y.shape[-1]\n",
            "/usr/local/lib/python3.7/dist-packages/librosa/core/spectrum.py:224: UserWarning: n_fft=1024 is too small for input signal of length=953\n",
            "  n_fft, y.shape[-1]\n",
            "/usr/local/lib/python3.7/dist-packages/librosa/core/spectrum.py:224: UserWarning: n_fft=1024 is too small for input signal of length=765\n",
            "  n_fft, y.shape[-1]\n",
            "/usr/local/lib/python3.7/dist-packages/librosa/core/spectrum.py:224: UserWarning: n_fft=1024 is too small for input signal of length=979\n",
            "  n_fft, y.shape[-1]\n",
            "/usr/local/lib/python3.7/dist-packages/librosa/core/spectrum.py:224: UserWarning: n_fft=1024 is too small for input signal of length=690\n",
            "  n_fft, y.shape[-1]\n",
            "/usr/local/lib/python3.7/dist-packages/librosa/core/spectrum.py:224: UserWarning: n_fft=1024 is too small for input signal of length=831\n",
            "  n_fft, y.shape[-1]\n",
            "/usr/local/lib/python3.7/dist-packages/librosa/core/spectrum.py:224: UserWarning: n_fft=1024 is too small for input signal of length=688\n",
            "  n_fft, y.shape[-1]\n",
            "/usr/local/lib/python3.7/dist-packages/librosa/core/spectrum.py:224: UserWarning: n_fft=1024 is too small for input signal of length=862\n",
            "  n_fft, y.shape[-1]\n",
            "/usr/local/lib/python3.7/dist-packages/librosa/core/spectrum.py:224: UserWarning: n_fft=1024 is too small for input signal of length=927\n",
            "  n_fft, y.shape[-1]\n",
            "/usr/local/lib/python3.7/dist-packages/librosa/core/spectrum.py:224: UserWarning: n_fft=1024 is too small for input signal of length=709\n",
            "  n_fft, y.shape[-1]\n",
            "/usr/local/lib/python3.7/dist-packages/librosa/core/spectrum.py:224: UserWarning: n_fft=1024 is too small for input signal of length=791\n",
            "  n_fft, y.shape[-1]\n",
            "/usr/local/lib/python3.7/dist-packages/librosa/core/spectrum.py:224: UserWarning: n_fft=1024 is too small for input signal of length=848\n",
            "  n_fft, y.shape[-1]\n",
            "/usr/local/lib/python3.7/dist-packages/librosa/core/spectrum.py:224: UserWarning: n_fft=1024 is too small for input signal of length=767\n",
            "  n_fft, y.shape[-1]\n",
            "/usr/local/lib/python3.7/dist-packages/librosa/core/spectrum.py:224: UserWarning: n_fft=1024 is too small for input signal of length=808\n",
            "  n_fft, y.shape[-1]\n",
            "/usr/local/lib/python3.7/dist-packages/librosa/core/spectrum.py:224: UserWarning: n_fft=1024 is too small for input signal of length=753\n",
            "  n_fft, y.shape[-1]\n",
            "/usr/local/lib/python3.7/dist-packages/librosa/core/spectrum.py:224: UserWarning: n_fft=1024 is too small for input signal of length=729\n",
            "  n_fft, y.shape[-1]\n",
            "/usr/local/lib/python3.7/dist-packages/librosa/core/spectrum.py:224: UserWarning: n_fft=1024 is too small for input signal of length=991\n",
            "  n_fft, y.shape[-1]\n",
            "/usr/local/lib/python3.7/dist-packages/librosa/core/spectrum.py:224: UserWarning: n_fft=1024 is too small for input signal of length=860\n",
            "  n_fft, y.shape[-1]\n",
            "/usr/local/lib/python3.7/dist-packages/librosa/core/spectrum.py:224: UserWarning: n_fft=1024 is too small for input signal of length=915\n",
            "  n_fft, y.shape[-1]\n",
            "/usr/local/lib/python3.7/dist-packages/librosa/core/spectrum.py:224: UserWarning: n_fft=1024 is too small for input signal of length=703\n",
            "  n_fft, y.shape[-1]\n",
            "/usr/local/lib/python3.7/dist-packages/librosa/core/spectrum.py:224: UserWarning: n_fft=1024 is too small for input signal of length=1008\n",
            "  n_fft, y.shape[-1]\n",
            "/usr/local/lib/python3.7/dist-packages/librosa/core/spectrum.py:224: UserWarning: n_fft=1024 is too small for input signal of length=745\n",
            "  n_fft, y.shape[-1]\n",
            "/usr/local/lib/python3.7/dist-packages/librosa/core/spectrum.py:224: UserWarning: n_fft=1024 is too small for input signal of length=972\n",
            "  n_fft, y.shape[-1]\n",
            "/usr/local/lib/python3.7/dist-packages/librosa/core/spectrum.py:224: UserWarning: n_fft=1024 is too small for input signal of length=486\n",
            "  n_fft, y.shape[-1]\n",
            "/usr/local/lib/python3.7/dist-packages/librosa/core/spectrum.py:224: UserWarning: n_fft=1024 is too small for input signal of length=843\n",
            "  n_fft, y.shape[-1]\n",
            "/usr/local/lib/python3.7/dist-packages/librosa/core/spectrum.py:224: UserWarning: n_fft=1024 is too small for input signal of length=993\n",
            "  n_fft, y.shape[-1]\n",
            "/usr/local/lib/python3.7/dist-packages/librosa/core/spectrum.py:224: UserWarning: n_fft=1024 is too small for input signal of length=779\n",
            "  n_fft, y.shape[-1]\n",
            "/usr/local/lib/python3.7/dist-packages/librosa/core/spectrum.py:224: UserWarning: n_fft=1024 is too small for input signal of length=929\n",
            "  n_fft, y.shape[-1]\n",
            "/usr/local/lib/python3.7/dist-packages/librosa/core/spectrum.py:224: UserWarning: n_fft=1024 is too small for input signal of length=1005\n",
            "  n_fft, y.shape[-1]\n",
            "/usr/local/lib/python3.7/dist-packages/librosa/core/spectrum.py:224: UserWarning: n_fft=1024 is too small for input signal of length=736\n",
            "  n_fft, y.shape[-1]\n",
            "/usr/local/lib/python3.7/dist-packages/librosa/core/spectrum.py:224: UserWarning: n_fft=1024 is too small for input signal of length=957\n",
            "  n_fft, y.shape[-1]\n",
            "/usr/local/lib/python3.7/dist-packages/librosa/core/spectrum.py:224: UserWarning: n_fft=1024 is too small for input signal of length=833\n",
            "  n_fft, y.shape[-1]\n",
            "/usr/local/lib/python3.7/dist-packages/librosa/core/spectrum.py:224: UserWarning: n_fft=1024 is too small for input signal of length=879\n",
            "  n_fft, y.shape[-1]\n",
            "/usr/local/lib/python3.7/dist-packages/librosa/core/spectrum.py:224: UserWarning: n_fft=1024 is too small for input signal of length=920\n",
            "  n_fft, y.shape[-1]\n",
            "/usr/local/lib/python3.7/dist-packages/librosa/core/spectrum.py:224: UserWarning: n_fft=1024 is too small for input signal of length=721\n",
            "  n_fft, y.shape[-1]\n",
            "/usr/local/lib/python3.7/dist-packages/librosa/core/spectrum.py:224: UserWarning: n_fft=1024 is too small for input signal of length=998\n",
            "  n_fft, y.shape[-1]\n",
            "/usr/local/lib/python3.7/dist-packages/librosa/core/spectrum.py:224: UserWarning: n_fft=1024 is too small for input signal of length=684\n",
            "  n_fft, y.shape[-1]\n",
            "/usr/local/lib/python3.7/dist-packages/librosa/core/spectrum.py:224: UserWarning: n_fft=1024 is too small for input signal of length=741\n",
            "  n_fft, y.shape[-1]\n",
            "/usr/local/lib/python3.7/dist-packages/librosa/core/spectrum.py:224: UserWarning: n_fft=1024 is too small for input signal of length=1020\n",
            "  n_fft, y.shape[-1]\n",
            "/usr/local/lib/python3.7/dist-packages/librosa/core/spectrum.py:224: UserWarning: n_fft=1024 is too small for input signal of length=872\n",
            "  n_fft, y.shape[-1]\n",
            "/usr/local/lib/python3.7/dist-packages/librosa/core/spectrum.py:224: UserWarning: n_fft=1024 is too small for input signal of length=881\n",
            "  n_fft, y.shape[-1]\n",
            "/usr/local/lib/python3.7/dist-packages/librosa/core/spectrum.py:224: UserWarning: n_fft=1024 is too small for input signal of length=646\n",
            "  n_fft, y.shape[-1]\n",
            "/usr/local/lib/python3.7/dist-packages/librosa/core/spectrum.py:224: UserWarning: n_fft=1024 is too small for input signal of length=888\n",
            "  n_fft, y.shape[-1]\n",
            "/usr/local/lib/python3.7/dist-packages/librosa/core/spectrum.py:224: UserWarning: n_fft=1024 is too small for input signal of length=932\n",
            "  n_fft, y.shape[-1]\n",
            "/usr/local/lib/python3.7/dist-packages/librosa/core/spectrum.py:224: UserWarning: n_fft=1024 is too small for input signal of length=934\n",
            "  n_fft, y.shape[-1]\n",
            "/usr/local/lib/python3.7/dist-packages/librosa/core/spectrum.py:224: UserWarning: n_fft=1024 is too small for input signal of length=834\n",
            "  n_fft, y.shape[-1]\n",
            "/usr/local/lib/python3.7/dist-packages/librosa/core/pitch.py:153: UserWarning: Trying to estimate tuning from empty frequency set.\n",
            "  warnings.warn(\"Trying to estimate tuning from empty frequency set.\")\n",
            "/usr/local/lib/python3.7/dist-packages/librosa/core/spectrum.py:224: UserWarning: n_fft=1024 is too small for input signal of length=764\n",
            "  n_fft, y.shape[-1]\n",
            "/usr/local/lib/python3.7/dist-packages/librosa/core/spectrum.py:224: UserWarning: n_fft=1024 is too small for input signal of length=712\n",
            "  n_fft, y.shape[-1]\n",
            "/usr/local/lib/python3.7/dist-packages/librosa/core/spectrum.py:224: UserWarning: n_fft=1024 is too small for input signal of length=795\n",
            "  n_fft, y.shape[-1]\n",
            "/usr/local/lib/python3.7/dist-packages/librosa/core/spectrum.py:224: UserWarning: n_fft=1024 is too small for input signal of length=814\n",
            "  n_fft, y.shape[-1]\n",
            "/usr/local/lib/python3.7/dist-packages/librosa/core/spectrum.py:224: UserWarning: n_fft=1024 is too small for input signal of length=667\n",
            "  n_fft, y.shape[-1]\n",
            "/usr/local/lib/python3.7/dist-packages/librosa/core/spectrum.py:224: UserWarning: n_fft=1024 is too small for input signal of length=938\n",
            "  n_fft, y.shape[-1]\n",
            "/usr/local/lib/python3.7/dist-packages/librosa/core/spectrum.py:224: UserWarning: n_fft=1024 is too small for input signal of length=896\n",
            "  n_fft, y.shape[-1]\n",
            "/usr/local/lib/python3.7/dist-packages/librosa/core/spectrum.py:224: UserWarning: n_fft=1024 is too small for input signal of length=771\n",
            "  n_fft, y.shape[-1]\n",
            "/usr/local/lib/python3.7/dist-packages/librosa/core/spectrum.py:224: UserWarning: n_fft=1024 is too small for input signal of length=989\n",
            "  n_fft, y.shape[-1]\n",
            "/usr/local/lib/python3.7/dist-packages/librosa/core/spectrum.py:224: UserWarning: n_fft=1024 is too small for input signal of length=789\n",
            "  n_fft, y.shape[-1]\n",
            "/usr/local/lib/python3.7/dist-packages/librosa/core/spectrum.py:224: UserWarning: n_fft=1024 is too small for input signal of length=824\n",
            "  n_fft, y.shape[-1]\n",
            "/usr/local/lib/python3.7/dist-packages/librosa/core/spectrum.py:224: UserWarning: n_fft=1024 is too small for input signal of length=567\n",
            "  n_fft, y.shape[-1]\n",
            "/usr/local/lib/python3.7/dist-packages/librosa/core/spectrum.py:224: UserWarning: n_fft=1024 is too small for input signal of length=939\n",
            "  n_fft, y.shape[-1]\n",
            "/usr/local/lib/python3.7/dist-packages/librosa/core/spectrum.py:224: UserWarning: n_fft=1024 is too small for input signal of length=950\n",
            "  n_fft, y.shape[-1]\n",
            "/usr/local/lib/python3.7/dist-packages/librosa/core/spectrum.py:224: UserWarning: n_fft=1024 is too small for input signal of length=803\n",
            "  n_fft, y.shape[-1]\n",
            "/usr/local/lib/python3.7/dist-packages/librosa/core/spectrum.py:224: UserWarning: n_fft=1024 is too small for input signal of length=886\n",
            "  n_fft, y.shape[-1]\n",
            "/usr/local/lib/python3.7/dist-packages/librosa/core/spectrum.py:224: UserWarning: n_fft=1024 is too small for input signal of length=905\n",
            "  n_fft, y.shape[-1]\n",
            "/usr/local/lib/python3.7/dist-packages/librosa/core/spectrum.py:224: UserWarning: n_fft=1024 is too small for input signal of length=903\n",
            "  n_fft, y.shape[-1]\n",
            "/usr/local/lib/python3.7/dist-packages/librosa/core/spectrum.py:224: UserWarning: n_fft=1024 is too small for input signal of length=963\n",
            "  n_fft, y.shape[-1]\n",
            "/usr/local/lib/python3.7/dist-packages/librosa/core/spectrum.py:224: UserWarning: n_fft=1024 is too small for input signal of length=707\n",
            "  n_fft, y.shape[-1]\n",
            "/usr/local/lib/python3.7/dist-packages/librosa/core/spectrum.py:224: UserWarning: n_fft=1024 is too small for input signal of length=958\n",
            "  n_fft, y.shape[-1]\n",
            "/usr/local/lib/python3.7/dist-packages/librosa/core/spectrum.py:224: UserWarning: n_fft=1024 is too small for input signal of length=922\n",
            "  n_fft, y.shape[-1]\n",
            "/usr/local/lib/python3.7/dist-packages/librosa/core/spectrum.py:224: UserWarning: n_fft=1024 is too small for input signal of length=612\n",
            "  n_fft, y.shape[-1]\n",
            "/usr/local/lib/python3.7/dist-packages/librosa/core/spectrum.py:224: UserWarning: n_fft=1024 is too small for input signal of length=727\n",
            "  n_fft, y.shape[-1]\n",
            "/usr/local/lib/python3.7/dist-packages/librosa/core/spectrum.py:224: UserWarning: n_fft=1024 is too small for input signal of length=1010\n",
            "  n_fft, y.shape[-1]\n",
            "/usr/local/lib/python3.7/dist-packages/librosa/core/spectrum.py:224: UserWarning: n_fft=1024 is too small for input signal of length=836\n",
            "  n_fft, y.shape[-1]\n",
            "/usr/local/lib/python3.7/dist-packages/librosa/core/spectrum.py:224: UserWarning: n_fft=1024 is too small for input signal of length=948\n",
            "  n_fft, y.shape[-1]\n"
          ]
        }
      ],
      "source": [
        "feature_extraction = df.apply(extract_features, axis=1)"
      ]
    },
    {
      "cell_type": "markdown",
      "source": [
        "Storing this preprocessed features as a pickle file as it too almost 5 hours and 20 minutes for this to run"
      ],
      "metadata": {
        "id": "FgXThyzOBoWt"
      }
    },
    {
      "cell_type": "code",
      "execution_count": null,
      "metadata": {
        "id": "GoS72w4LXhQI"
      },
      "outputs": [],
      "source": [
        "np.save('features_extracted_with_label', feature_extraction)\n"
      ]
    },
    {
      "cell_type": "code",
      "execution_count": null,
      "metadata": {
        "id": "5xFDF_9XaN4x",
        "colab": {
          "base_uri": "https://localhost:8080/"
        },
        "outputId": "b8174346-28e8-4511-c9ff-75ef6f42a411"
      },
      "outputs": [
        {
          "output_type": "stream",
          "name": "stdout",
          "text": [
            "5:20:13.834275\n"
          ]
        }
      ],
      "source": [
        "print(datetime.now() - s)\n"
      ]
    },
    {
      "cell_type": "markdown",
      "source": [
        "Loading the preprocessed features"
      ],
      "metadata": {
        "id": "Kityx7IPBiqJ"
      }
    },
    {
      "cell_type": "code",
      "source": [
        "def feature_extraction():\n",
        "  features_extracted = np.load('/content/drive/MyDrive/Fall 2022/Machine Learning/Project/features_extracted_with_label.npy', allow_pickle=True)\n",
        "  features = []\n",
        "  labels = []\n",
        "  for i in range(0, len(features_extracted)):\n",
        "      features.append(np.concatenate((features_extracted[i][0], features_extracted[i][1], features_extracted[i][2], features_extracted[i][3],features_extracted[i][4]), axis=0))\n",
        "      labels.append(features_extracted[i][5])\n",
        "  X = np.array(features)\n",
        "  y = np.array(labels)\n",
        "  return X,y"
      ],
      "metadata": {
        "id": "tde5JM_t4uOr"
      },
      "execution_count": null,
      "outputs": []
    },
    {
      "cell_type": "code",
      "source": [
        "X,y=feature_extraction()"
      ],
      "metadata": {
        "id": "9gp88vdS566l"
      },
      "execution_count": null,
      "outputs": []
    },
    {
      "cell_type": "markdown",
      "source": [
        "Train test split"
      ],
      "metadata": {
        "id": "u4sYlAgDBw47"
      }
    },
    {
      "cell_type": "code",
      "source": [
        "def test_train_split(X,y):\n",
        "  lb = LabelEncoder()\n",
        "  y = to_categorical(lb.fit_transform(y))\n",
        "  X_train = X[:7000]\n",
        "  y_train = y[:7000]\n",
        "  X_val = X[7000:9000]\n",
        "  y_val = y[7000:9000]\n",
        "  X_test = X[9000:]\n",
        "  y_test = y[9000:]\n",
        "  return X_train,y_train,X_val,y_val,X_test,y_test"
      ],
      "metadata": {
        "id": "GG9y5Zhd5YPb"
      },
      "execution_count": null,
      "outputs": []
    },
    {
      "cell_type": "code",
      "source": [
        "X_train,y_train,X_val,y_val,X_test,y_test = test_train_split(X,y)"
      ],
      "metadata": {
        "id": "YO15TuYT7s-A"
      },
      "execution_count": null,
      "outputs": []
    },
    {
      "cell_type": "markdown",
      "source": [
        "Feature scaling"
      ],
      "metadata": {
        "id": "YU_kpiybBzCT"
      }
    },
    {
      "cell_type": "code",
      "source": [
        "def scaling_features(X_train,X_val,X_test):\n",
        "  ss = StandardScaler()\n",
        "  X_train = ss.fit_transform(X_train)\n",
        "  X_val = ss.transform(X_val)\n",
        "  X_test = ss.transform(X_test)\n",
        "  return X_train,X_val,X_test"
      ],
      "metadata": {
        "id": "3YcOAChV7z9M"
      },
      "execution_count": null,
      "outputs": []
    },
    {
      "cell_type": "code",
      "source": [
        "X_train,X_val,X_test = scaling_features(X_train,X_val,X_test)"
      ],
      "metadata": {
        "id": "BFPr5iGn8A9s"
      },
      "execution_count": null,
      "outputs": []
    },
    {
      "cell_type": "markdown",
      "source": [
        "Neural Network model"
      ],
      "metadata": {
        "id": "1wxPwRzxB1go"
      }
    },
    {
      "cell_type": "code",
      "source": [
        "def model_building():\n",
        "  model = Sequential()\n",
        "  model.add(Dense(193, input_shape=(193,), activation = 'relu'))\n",
        "  model.add(Dropout(0.1))\n",
        "  model.add(Dense(128, activation = 'relu'))\n",
        "  model.add(Dropout(0.25))  \n",
        "  model.add(Dense(128, activation = 'relu'))\n",
        "  model.add(Dropout(0.5))    \n",
        "  model.add(Dense(2, activation = 'softmax'))\n",
        "\n",
        "  model.compile(loss='categorical_crossentropy', metrics=['accuracy'], optimizer='adam')\n",
        "  return model"
      ],
      "metadata": {
        "id": "R8OAvniz9Sjm"
      },
      "execution_count": null,
      "outputs": []
    },
    {
      "cell_type": "code",
      "source": [
        "model = model_building()\n",
        "model.summary()"
      ],
      "metadata": {
        "colab": {
          "base_uri": "https://localhost:8080/"
        },
        "id": "aRgeaRa_9-fB",
        "outputId": "e4ef7da9-f989-4e36-ff7a-a82634c80303"
      },
      "execution_count": null,
      "outputs": [
        {
          "output_type": "stream",
          "name": "stdout",
          "text": [
            "Model: \"sequential_1\"\n",
            "_________________________________________________________________\n",
            " Layer (type)                Output Shape              Param #   \n",
            "=================================================================\n",
            " dense_4 (Dense)             (None, 193)               37442     \n",
            "                                                                 \n",
            " dropout_3 (Dropout)         (None, 193)               0         \n",
            "                                                                 \n",
            " dense_5 (Dense)             (None, 128)               24832     \n",
            "                                                                 \n",
            " dropout_4 (Dropout)         (None, 128)               0         \n",
            "                                                                 \n",
            " dense_6 (Dense)             (None, 128)               16512     \n",
            "                                                                 \n",
            " dropout_5 (Dropout)         (None, 128)               0         \n",
            "                                                                 \n",
            " dense_7 (Dense)             (None, 2)                 258       \n",
            "                                                                 \n",
            "=================================================================\n",
            "Total params: 79,044\n",
            "Trainable params: 79,044\n",
            "Non-trainable params: 0\n",
            "_________________________________________________________________\n"
          ]
        }
      ]
    },
    {
      "cell_type": "code",
      "source": [
        "s = datetime.now()"
      ],
      "metadata": {
        "id": "SkqX46M4-V0B"
      },
      "execution_count": null,
      "outputs": []
    },
    {
      "cell_type": "markdown",
      "source": [
        "Training the neural network model"
      ],
      "metadata": {
        "id": "3nRH6zTKB6av"
      }
    },
    {
      "cell_type": "code",
      "source": [
        "history = model.fit(X_train, y_train, batch_size=256, epochs=100, validation_data=(X_val, y_val))"
      ],
      "metadata": {
        "colab": {
          "base_uri": "https://localhost:8080/"
        },
        "id": "u9ovp2zv-RjN",
        "outputId": "5dd7b5cc-68f5-4236-f33f-a51d8c603efc"
      },
      "execution_count": null,
      "outputs": [
        {
          "output_type": "stream",
          "name": "stdout",
          "text": [
            "Epoch 1/100\n",
            "28/28 [==============================] - 2s 20ms/step - loss: 0.3372 - accuracy: 0.8539 - val_loss: 0.1572 - val_accuracy: 0.9410\n",
            "Epoch 2/100\n",
            "28/28 [==============================] - 0s 10ms/step - loss: 0.1445 - accuracy: 0.9480 - val_loss: 0.0969 - val_accuracy: 0.9640\n",
            "Epoch 3/100\n",
            "28/28 [==============================] - 0s 12ms/step - loss: 0.0885 - accuracy: 0.9689 - val_loss: 0.0731 - val_accuracy: 0.9750\n",
            "Epoch 4/100\n",
            "28/28 [==============================] - 0s 13ms/step - loss: 0.0643 - accuracy: 0.9800 - val_loss: 0.0692 - val_accuracy: 0.9790\n",
            "Epoch 5/100\n",
            "28/28 [==============================] - 0s 14ms/step - loss: 0.0486 - accuracy: 0.9840 - val_loss: 0.0493 - val_accuracy: 0.9865\n",
            "Epoch 6/100\n",
            "28/28 [==============================] - 0s 14ms/step - loss: 0.0338 - accuracy: 0.9889 - val_loss: 0.0460 - val_accuracy: 0.9885\n",
            "Epoch 7/100\n",
            "28/28 [==============================] - 0s 12ms/step - loss: 0.0288 - accuracy: 0.9899 - val_loss: 0.0436 - val_accuracy: 0.9880\n",
            "Epoch 8/100\n",
            "28/28 [==============================] - 0s 13ms/step - loss: 0.0228 - accuracy: 0.9931 - val_loss: 0.0408 - val_accuracy: 0.9900\n",
            "Epoch 9/100\n",
            "28/28 [==============================] - 0s 13ms/step - loss: 0.0238 - accuracy: 0.9923 - val_loss: 0.0489 - val_accuracy: 0.9900\n",
            "Epoch 10/100\n",
            "28/28 [==============================] - 0s 12ms/step - loss: 0.0288 - accuracy: 0.9930 - val_loss: 0.0507 - val_accuracy: 0.9875\n",
            "Epoch 11/100\n",
            "28/28 [==============================] - 0s 13ms/step - loss: 0.0130 - accuracy: 0.9961 - val_loss: 0.0418 - val_accuracy: 0.9905\n",
            "Epoch 12/100\n",
            "28/28 [==============================] - 0s 12ms/step - loss: 0.0153 - accuracy: 0.9964 - val_loss: 0.0397 - val_accuracy: 0.9905\n",
            "Epoch 13/100\n",
            "28/28 [==============================] - 0s 10ms/step - loss: 0.0121 - accuracy: 0.9973 - val_loss: 0.0443 - val_accuracy: 0.9925\n",
            "Epoch 14/100\n",
            "28/28 [==============================] - 0s 11ms/step - loss: 0.0102 - accuracy: 0.9976 - val_loss: 0.0489 - val_accuracy: 0.9895\n",
            "Epoch 15/100\n",
            "28/28 [==============================] - 0s 15ms/step - loss: 0.0072 - accuracy: 0.9986 - val_loss: 0.0481 - val_accuracy: 0.9925\n",
            "Epoch 16/100\n",
            "28/28 [==============================] - 0s 15ms/step - loss: 0.0055 - accuracy: 0.9987 - val_loss: 0.0515 - val_accuracy: 0.9910\n",
            "Epoch 17/100\n",
            "28/28 [==============================] - 0s 12ms/step - loss: 0.0098 - accuracy: 0.9974 - val_loss: 0.0662 - val_accuracy: 0.9870\n",
            "Epoch 18/100\n",
            "28/28 [==============================] - 0s 12ms/step - loss: 0.0081 - accuracy: 0.9970 - val_loss: 0.0566 - val_accuracy: 0.9905\n",
            "Epoch 19/100\n",
            "28/28 [==============================] - 0s 11ms/step - loss: 0.0175 - accuracy: 0.9969 - val_loss: 0.0870 - val_accuracy: 0.9895\n",
            "Epoch 20/100\n",
            "28/28 [==============================] - 0s 14ms/step - loss: 0.0079 - accuracy: 0.9977 - val_loss: 0.0441 - val_accuracy: 0.9915\n",
            "Epoch 21/100\n",
            "28/28 [==============================] - 0s 12ms/step - loss: 0.0033 - accuracy: 0.9989 - val_loss: 0.0419 - val_accuracy: 0.9930\n",
            "Epoch 22/100\n",
            "28/28 [==============================] - 0s 13ms/step - loss: 0.0026 - accuracy: 0.9991 - val_loss: 0.0437 - val_accuracy: 0.9920\n",
            "Epoch 23/100\n",
            "28/28 [==============================] - 0s 14ms/step - loss: 0.0077 - accuracy: 0.9977 - val_loss: 0.0531 - val_accuracy: 0.9910\n",
            "Epoch 24/100\n",
            "28/28 [==============================] - 0s 14ms/step - loss: 0.0057 - accuracy: 0.9977 - val_loss: 0.0509 - val_accuracy: 0.9900\n",
            "Epoch 25/100\n",
            "28/28 [==============================] - 0s 15ms/step - loss: 0.0031 - accuracy: 0.9991 - val_loss: 0.0484 - val_accuracy: 0.9910\n",
            "Epoch 26/100\n",
            "28/28 [==============================] - 0s 12ms/step - loss: 0.0020 - accuracy: 0.9993 - val_loss: 0.0476 - val_accuracy: 0.9940\n",
            "Epoch 27/100\n",
            "28/28 [==============================] - 0s 11ms/step - loss: 0.0017 - accuracy: 0.9994 - val_loss: 0.0445 - val_accuracy: 0.9925\n",
            "Epoch 28/100\n",
            "28/28 [==============================] - 1s 20ms/step - loss: 0.0012 - accuracy: 0.9996 - val_loss: 0.0439 - val_accuracy: 0.9920\n",
            "Epoch 29/100\n",
            "28/28 [==============================] - 1s 20ms/step - loss: 0.0012 - accuracy: 0.9997 - val_loss: 0.0455 - val_accuracy: 0.9940\n",
            "Epoch 30/100\n",
            "28/28 [==============================] - 1s 26ms/step - loss: 0.0020 - accuracy: 0.9991 - val_loss: 0.0455 - val_accuracy: 0.9940\n",
            "Epoch 31/100\n",
            "28/28 [==============================] - 1s 20ms/step - loss: 0.0021 - accuracy: 0.9993 - val_loss: 0.0434 - val_accuracy: 0.9940\n",
            "Epoch 32/100\n",
            "28/28 [==============================] - 1s 21ms/step - loss: 0.0040 - accuracy: 0.9991 - val_loss: 0.0520 - val_accuracy: 0.9940\n",
            "Epoch 33/100\n",
            "28/28 [==============================] - 1s 21ms/step - loss: 0.0025 - accuracy: 0.9993 - val_loss: 0.0521 - val_accuracy: 0.9930\n",
            "Epoch 34/100\n",
            "28/28 [==============================] - 1s 23ms/step - loss: 0.0013 - accuracy: 0.9997 - val_loss: 0.0455 - val_accuracy: 0.9935\n",
            "Epoch 35/100\n",
            "28/28 [==============================] - 1s 22ms/step - loss: 0.0022 - accuracy: 0.9993 - val_loss: 0.0483 - val_accuracy: 0.9935\n",
            "Epoch 36/100\n",
            "28/28 [==============================] - 0s 17ms/step - loss: 0.0014 - accuracy: 0.9994 - val_loss: 0.0548 - val_accuracy: 0.9935\n",
            "Epoch 37/100\n",
            "28/28 [==============================] - 1s 20ms/step - loss: 0.0048 - accuracy: 0.9987 - val_loss: 0.0655 - val_accuracy: 0.9920\n",
            "Epoch 38/100\n",
            "28/28 [==============================] - 1s 19ms/step - loss: 0.0067 - accuracy: 0.9987 - val_loss: 0.0663 - val_accuracy: 0.9920\n",
            "Epoch 39/100\n",
            "28/28 [==============================] - 1s 22ms/step - loss: 0.0079 - accuracy: 0.9983 - val_loss: 0.0697 - val_accuracy: 0.9885\n",
            "Epoch 40/100\n",
            "28/28 [==============================] - 1s 25ms/step - loss: 0.0039 - accuracy: 0.9986 - val_loss: 0.0500 - val_accuracy: 0.9940\n",
            "Epoch 41/100\n",
            "28/28 [==============================] - 1s 21ms/step - loss: 0.0028 - accuracy: 0.9990 - val_loss: 0.0707 - val_accuracy: 0.9915\n",
            "Epoch 42/100\n",
            "28/28 [==============================] - 1s 20ms/step - loss: 0.0023 - accuracy: 0.9993 - val_loss: 0.0527 - val_accuracy: 0.9950\n",
            "Epoch 43/100\n",
            "28/28 [==============================] - 1s 21ms/step - loss: 0.0022 - accuracy: 0.9993 - val_loss: 0.0600 - val_accuracy: 0.9935\n",
            "Epoch 44/100\n",
            "28/28 [==============================] - 1s 26ms/step - loss: 0.0022 - accuracy: 0.9991 - val_loss: 0.0539 - val_accuracy: 0.9930\n",
            "Epoch 45/100\n",
            "28/28 [==============================] - 1s 32ms/step - loss: 0.0040 - accuracy: 0.9989 - val_loss: 0.0470 - val_accuracy: 0.9950\n",
            "Epoch 46/100\n",
            "28/28 [==============================] - 1s 26ms/step - loss: 0.0111 - accuracy: 0.9990 - val_loss: 0.0529 - val_accuracy: 0.9940\n",
            "Epoch 47/100\n",
            "28/28 [==============================] - 0s 16ms/step - loss: 0.0011 - accuracy: 0.9994 - val_loss: 0.0454 - val_accuracy: 0.9950\n",
            "Epoch 48/100\n",
            "28/28 [==============================] - 0s 13ms/step - loss: 6.7408e-04 - accuracy: 0.9999 - val_loss: 0.0453 - val_accuracy: 0.9950\n",
            "Epoch 49/100\n",
            "28/28 [==============================] - 0s 12ms/step - loss: 0.0020 - accuracy: 0.9994 - val_loss: 0.0709 - val_accuracy: 0.9915\n",
            "Epoch 50/100\n",
            "28/28 [==============================] - 0s 11ms/step - loss: 0.0053 - accuracy: 0.9987 - val_loss: 0.0577 - val_accuracy: 0.9940\n",
            "Epoch 51/100\n",
            "28/28 [==============================] - 0s 15ms/step - loss: 0.0020 - accuracy: 0.9990 - val_loss: 0.0502 - val_accuracy: 0.9945\n",
            "Epoch 52/100\n",
            "28/28 [==============================] - 0s 13ms/step - loss: 0.0074 - accuracy: 0.9990 - val_loss: 0.0623 - val_accuracy: 0.9910\n",
            "Epoch 53/100\n",
            "28/28 [==============================] - 0s 14ms/step - loss: 0.0302 - accuracy: 0.9983 - val_loss: 0.0483 - val_accuracy: 0.9915\n",
            "Epoch 54/100\n",
            "28/28 [==============================] - 0s 16ms/step - loss: 0.0070 - accuracy: 0.9986 - val_loss: 0.0496 - val_accuracy: 0.9940\n",
            "Epoch 55/100\n",
            "28/28 [==============================] - 0s 15ms/step - loss: 0.0029 - accuracy: 0.9990 - val_loss: 0.0518 - val_accuracy: 0.9940\n",
            "Epoch 56/100\n",
            "28/28 [==============================] - 0s 16ms/step - loss: 7.7120e-04 - accuracy: 0.9999 - val_loss: 0.0472 - val_accuracy: 0.9940\n",
            "Epoch 57/100\n",
            "28/28 [==============================] - 0s 16ms/step - loss: 8.7937e-04 - accuracy: 0.9997 - val_loss: 0.0485 - val_accuracy: 0.9950\n",
            "Epoch 58/100\n",
            "28/28 [==============================] - 0s 14ms/step - loss: 6.6719e-04 - accuracy: 0.9999 - val_loss: 0.0556 - val_accuracy: 0.9940\n",
            "Epoch 59/100\n",
            "28/28 [==============================] - 0s 16ms/step - loss: 4.0123e-04 - accuracy: 0.9999 - val_loss: 0.0526 - val_accuracy: 0.9940\n",
            "Epoch 60/100\n",
            "28/28 [==============================] - 0s 16ms/step - loss: 4.8750e-04 - accuracy: 0.9997 - val_loss: 0.0518 - val_accuracy: 0.9950\n",
            "Epoch 61/100\n",
            "28/28 [==============================] - 0s 15ms/step - loss: 5.2648e-04 - accuracy: 0.9997 - val_loss: 0.0582 - val_accuracy: 0.9930\n",
            "Epoch 62/100\n",
            "28/28 [==============================] - 0s 18ms/step - loss: 4.6789e-04 - accuracy: 0.9999 - val_loss: 0.0573 - val_accuracy: 0.9940\n",
            "Epoch 63/100\n",
            "28/28 [==============================] - 0s 15ms/step - loss: 0.0015 - accuracy: 0.9997 - val_loss: 0.0497 - val_accuracy: 0.9950\n",
            "Epoch 64/100\n",
            "28/28 [==============================] - 0s 15ms/step - loss: 4.8564e-04 - accuracy: 1.0000 - val_loss: 0.0525 - val_accuracy: 0.9950\n",
            "Epoch 65/100\n",
            "28/28 [==============================] - 0s 11ms/step - loss: 0.0013 - accuracy: 0.9996 - val_loss: 0.0570 - val_accuracy: 0.9935\n",
            "Epoch 66/100\n",
            "28/28 [==============================] - 0s 14ms/step - loss: 2.4583e-04 - accuracy: 1.0000 - val_loss: 0.0556 - val_accuracy: 0.9930\n",
            "Epoch 67/100\n",
            "28/28 [==============================] - 0s 13ms/step - loss: 6.4539e-04 - accuracy: 0.9997 - val_loss: 0.0624 - val_accuracy: 0.9930\n",
            "Epoch 68/100\n",
            "28/28 [==============================] - 0s 14ms/step - loss: 0.0053 - accuracy: 0.9991 - val_loss: 0.0735 - val_accuracy: 0.9920\n",
            "Epoch 69/100\n",
            "28/28 [==============================] - 0s 12ms/step - loss: 0.0047 - accuracy: 0.9990 - val_loss: 0.0800 - val_accuracy: 0.9905\n",
            "Epoch 70/100\n",
            "28/28 [==============================] - 0s 14ms/step - loss: 0.0032 - accuracy: 0.9990 - val_loss: 0.0769 - val_accuracy: 0.9905\n",
            "Epoch 71/100\n",
            "28/28 [==============================] - 0s 12ms/step - loss: 0.0042 - accuracy: 0.9987 - val_loss: 0.0559 - val_accuracy: 0.9940\n",
            "Epoch 72/100\n",
            "28/28 [==============================] - 0s 12ms/step - loss: 0.0018 - accuracy: 0.9997 - val_loss: 0.0680 - val_accuracy: 0.9910\n",
            "Epoch 73/100\n",
            "28/28 [==============================] - 0s 13ms/step - loss: 0.0025 - accuracy: 0.9991 - val_loss: 0.0593 - val_accuracy: 0.9925\n",
            "Epoch 74/100\n",
            "28/28 [==============================] - 0s 13ms/step - loss: 5.3132e-04 - accuracy: 1.0000 - val_loss: 0.0576 - val_accuracy: 0.9930\n",
            "Epoch 75/100\n",
            "28/28 [==============================] - 0s 13ms/step - loss: 8.1897e-04 - accuracy: 0.9996 - val_loss: 0.0609 - val_accuracy: 0.9930\n",
            "Epoch 76/100\n",
            "28/28 [==============================] - 0s 14ms/step - loss: 6.6552e-04 - accuracy: 0.9997 - val_loss: 0.0630 - val_accuracy: 0.9925\n",
            "Epoch 77/100\n",
            "28/28 [==============================] - 0s 15ms/step - loss: 7.2733e-04 - accuracy: 0.9997 - val_loss: 0.0633 - val_accuracy: 0.9930\n",
            "Epoch 78/100\n",
            "28/28 [==============================] - 1s 20ms/step - loss: 6.8642e-04 - accuracy: 0.9999 - val_loss: 0.0587 - val_accuracy: 0.9925\n",
            "Epoch 79/100\n",
            "28/28 [==============================] - 1s 18ms/step - loss: 2.3055e-04 - accuracy: 1.0000 - val_loss: 0.0624 - val_accuracy: 0.9935\n",
            "Epoch 80/100\n",
            "28/28 [==============================] - 1s 21ms/step - loss: 2.2069e-04 - accuracy: 1.0000 - val_loss: 0.0650 - val_accuracy: 0.9925\n",
            "Epoch 81/100\n",
            "28/28 [==============================] - 0s 17ms/step - loss: 1.6542e-04 - accuracy: 1.0000 - val_loss: 0.0627 - val_accuracy: 0.9930\n",
            "Epoch 82/100\n",
            "28/28 [==============================] - 1s 28ms/step - loss: 2.0673e-04 - accuracy: 1.0000 - val_loss: 0.0606 - val_accuracy: 0.9940\n",
            "Epoch 83/100\n",
            "28/28 [==============================] - 1s 31ms/step - loss: 1.6409e-04 - accuracy: 1.0000 - val_loss: 0.0617 - val_accuracy: 0.9935\n",
            "Epoch 84/100\n",
            "28/28 [==============================] - 1s 24ms/step - loss: 1.5879e-04 - accuracy: 1.0000 - val_loss: 0.0614 - val_accuracy: 0.9940\n",
            "Epoch 85/100\n",
            "28/28 [==============================] - 1s 23ms/step - loss: 1.3130e-04 - accuracy: 1.0000 - val_loss: 0.0621 - val_accuracy: 0.9940\n",
            "Epoch 86/100\n",
            "28/28 [==============================] - 1s 20ms/step - loss: 1.8677e-04 - accuracy: 1.0000 - val_loss: 0.0619 - val_accuracy: 0.9925\n",
            "Epoch 87/100\n",
            "28/28 [==============================] - 1s 20ms/step - loss: 7.1949e-04 - accuracy: 0.9996 - val_loss: 0.0602 - val_accuracy: 0.9935\n",
            "Epoch 88/100\n",
            "28/28 [==============================] - 1s 25ms/step - loss: 0.0041 - accuracy: 0.9994 - val_loss: 0.0625 - val_accuracy: 0.9935\n",
            "Epoch 89/100\n",
            "28/28 [==============================] - 1s 18ms/step - loss: 0.0026 - accuracy: 0.9994 - val_loss: 0.0808 - val_accuracy: 0.9905\n",
            "Epoch 90/100\n",
            "28/28 [==============================] - 1s 18ms/step - loss: 0.0018 - accuracy: 0.9990 - val_loss: 0.0536 - val_accuracy: 0.9935\n",
            "Epoch 91/100\n",
            "28/28 [==============================] - 1s 19ms/step - loss: 9.2107e-04 - accuracy: 0.9997 - val_loss: 0.0566 - val_accuracy: 0.9925\n",
            "Epoch 92/100\n",
            "28/28 [==============================] - 0s 14ms/step - loss: 5.2044e-04 - accuracy: 0.9997 - val_loss: 0.0542 - val_accuracy: 0.9930\n",
            "Epoch 93/100\n",
            "28/28 [==============================] - 0s 17ms/step - loss: 0.0015 - accuracy: 0.9999 - val_loss: 0.0584 - val_accuracy: 0.9930\n",
            "Epoch 94/100\n",
            "28/28 [==============================] - 1s 24ms/step - loss: 3.5735e-04 - accuracy: 1.0000 - val_loss: 0.0662 - val_accuracy: 0.9930\n",
            "Epoch 95/100\n",
            "28/28 [==============================] - 1s 21ms/step - loss: 5.9447e-04 - accuracy: 0.9999 - val_loss: 0.0607 - val_accuracy: 0.9935\n",
            "Epoch 96/100\n",
            "28/28 [==============================] - 1s 18ms/step - loss: 3.7650e-04 - accuracy: 0.9999 - val_loss: 0.0615 - val_accuracy: 0.9940\n",
            "Epoch 97/100\n",
            "28/28 [==============================] - 1s 20ms/step - loss: 4.4278e-04 - accuracy: 0.9999 - val_loss: 0.0603 - val_accuracy: 0.9950\n",
            "Epoch 98/100\n",
            "28/28 [==============================] - 1s 20ms/step - loss: 3.7414e-04 - accuracy: 0.9999 - val_loss: 0.0539 - val_accuracy: 0.9945\n",
            "Epoch 99/100\n",
            "28/28 [==============================] - 1s 21ms/step - loss: 1.4734e-04 - accuracy: 1.0000 - val_loss: 0.0572 - val_accuracy: 0.9945\n",
            "Epoch 100/100\n",
            "28/28 [==============================] - 1s 22ms/step - loss: 8.1088e-05 - accuracy: 1.0000 - val_loss: 0.0601 - val_accuracy: 0.9940\n"
          ]
        }
      ]
    },
    {
      "cell_type": "markdown",
      "source": [
        "Plotting the training and validation accuracy"
      ],
      "metadata": {
        "id": "Nz-fjTgLB-Qx"
      }
    },
    {
      "cell_type": "code",
      "source": [
        "train_accuracy = history.history['accuracy']\n",
        "val_accuracy = history.history['val_accuracy']\n",
        "plt.figure(figsize=(12, 8))\n",
        "\n",
        "plt.plot(train_accuracy, label='Training Accuracy', color='#185fad')\n",
        "plt.plot(val_accuracy, label='Validation Accuracy', color='orange')\n",
        "plt.title('Training and Validation Accuracy by Epoch', fontsize = 25)\n",
        "plt.xlabel('Epoch', fontsize = 18)\n",
        "plt.ylabel('Categorical Crossentropy', fontsize = 18)\n",
        "plt.xticks(range(0,100,5), range(0,100,5))\n",
        "\n",
        "plt.legend(fontsize = 18);"
      ],
      "metadata": {
        "colab": {
          "base_uri": "https://localhost:8080/",
          "height": 530
        },
        "id": "T_l1aWKY-0Uw",
        "outputId": "b1012be5-6e71-462f-9616-70aecae7c52f"
      },
      "execution_count": null,
      "outputs": [
        {
          "output_type": "display_data",
          "data": {
            "text/plain": [
              "<Figure size 864x576 with 1 Axes>"
            ],
            "image/png": "[encoded data removed]"
          },
          "metadata": {
            "needs_background": "light"
          }
        }
      ]
    },
    {
      "cell_type": "markdown",
      "source": [
        "Data Prediction\n"
      ],
      "metadata": {
        "id": "MZ29Nzs90wqS"
      }
    },
    {
      "cell_type": "code",
      "source": [
        "preds = model.predict(X_test)\n",
        "preds=np.argmax(preds,axis=1)"
      ],
      "metadata": {
        "colab": {
          "base_uri": "https://localhost:8080/"
        },
        "id": "cZ-icWkE9DMh",
        "outputId": "b7830c45-e6db-4e45-b32d-1eca45a1a79f"
      },
      "execution_count": null,
      "outputs": [
        {
          "output_type": "stream",
          "name": "stdout",
          "text": [
            "49/49 [==============================] - 0s 3ms/step\n"
          ]
        }
      ]
    },
    {
      "cell_type": "code",
      "source": [
        "df_test = df[9000:]\n",
        "df_test['preds'] = preds\n",
        "df_test"
      ],
      "metadata": {
        "colab": {
          "base_uri": "https://localhost:8080/",
          "height": 531
        },
        "id": "iLsqTQt29IeU",
        "outputId": "a26dae70-d4f8-41b9-ad59-189ba227061a"
      },
      "execution_count": null,
      "outputs": [
        {
          "output_type": "stream",
          "name": "stderr",
          "text": [
            "/usr/local/lib/python3.7/dist-packages/ipykernel_launcher.py:2: SettingWithCopyWarning: \n",
            "A value is trying to be set on a copy of a slice from a DataFrame.\n",
            "Try using .loc[row_indexer,col_indexer] = value instead\n",
            "\n",
            "See the caveats in the documentation: https://pandas.pydata.org/pandas-docs/stable/user_guide/indexing.html#returning-a-view-versus-a-copy\n",
            "  \n"
          ]
        },
        {
          "output_type": "execute_result",
          "data": {
            "text/plain": [
              "                        file label  preds\n",
              "9000     2136-5140-0027.flac     1      1\n",
              "9001     5322-7678-0032.flac     1      1\n",
              "9002   2092-145706-0064.flac     0      0\n",
              "9003   1455-134435-0067.flac     1      1\n",
              "9004    311-124404-0076.flac     1      1\n",
              "...                      ...   ...    ...\n",
              "10534       78-369-0004.flac     1      1\n",
              "10535  8088-284756-0073.flac     1      1\n",
              "10536   5192-19397-0068.flac     1      1\n",
              "10537   7059-88364-0004.flac     0      0\n",
              "10538   248-130697-0018.flac     0      0\n",
              "\n",
              "[1539 rows x 3 columns]"
            ],
            "text/html": [
              "\n",
              "  <div id=\"df-cff39b57-69c8-4d10-b96b-b2571c8e5fc6\">\n",
              "    <div class=\"colab-df-container\">\n",
              "      <div>\n",
              "<style scoped>\n",
              "    .dataframe tbody tr th:only-of-type {\n",
              "        vertical-align: middle;\n",
              "    }\n",
              "\n",
              "    .dataframe tbody tr th {\n",
              "        vertical-align: top;\n",
              "    }\n",
              "\n",
              "    .dataframe thead th {\n",
              "        text-align: right;\n",
              "    }\n",
              "</style>\n",
              "<table border=\"1\" class=\"dataframe\">\n",
              "  <thead>\n",
              "    <tr style=\"text-align: right;\">\n",
              "      <th></th>\n",
              "      <th>file</th>\n",
              "      <th>label</th>\n",
              "      <th>preds</th>\n",
              "    </tr>\n",
              "  </thead>\n",
              "  <tbody>\n",
              "    <tr>\n",
              "      <th>9000</th>\n",
              "      <td>2136-5140-0027.flac</td>\n",
              "      <td>1</td>\n",
              "      <td>1</td>\n",
              "    </tr>\n",
              "    <tr>\n",
              "      <th>9001</th>\n",
              "      <td>5322-7678-0032.flac</td>\n",
              "      <td>1</td>\n",
              "      <td>1</td>\n",
              "    </tr>\n",
              "    <tr>\n",
              "      <th>9002</th>\n",
              "      <td>2092-145706-0064.flac</td>\n",
              "      <td>0</td>\n",
              "      <td>0</td>\n",
              "    </tr>\n",
              "    <tr>\n",
              "      <th>9003</th>\n",
              "      <td>1455-134435-0067.flac</td>\n",
              "      <td>1</td>\n",
              "      <td>1</td>\n",
              "    </tr>\n",
              "    <tr>\n",
              "      <th>9004</th>\n",
              "      <td>311-124404-0076.flac</td>\n",
              "      <td>1</td>\n",
              "      <td>1</td>\n",
              "    </tr>\n",
              "    <tr>\n",
              "      <th>...</th>\n",
              "      <td>...</td>\n",
              "      <td>...</td>\n",
              "      <td>...</td>\n",
              "    </tr>\n",
              "    <tr>\n",
              "      <th>10534</th>\n",
              "      <td>78-369-0004.flac</td>\n",
              "      <td>1</td>\n",
              "      <td>1</td>\n",
              "    </tr>\n",
              "    <tr>\n",
              "      <th>10535</th>\n",
              "      <td>8088-284756-0073.flac</td>\n",
              "      <td>1</td>\n",
              "      <td>1</td>\n",
              "    </tr>\n",
              "    <tr>\n",
              "      <th>10536</th>\n",
              "      <td>5192-19397-0068.flac</td>\n",
              "      <td>1</td>\n",
              "      <td>1</td>\n",
              "    </tr>\n",
              "    <tr>\n",
              "      <th>10537</th>\n",
              "      <td>7059-88364-0004.flac</td>\n",
              "      <td>0</td>\n",
              "      <td>0</td>\n",
              "    </tr>\n",
              "    <tr>\n",
              "      <th>10538</th>\n",
              "      <td>248-130697-0018.flac</td>\n",
              "      <td>0</td>\n",
              "      <td>0</td>\n",
              "    </tr>\n",
              "  </tbody>\n",
              "</table>\n",
              "<p>1539 rows × 3 columns</p>\n",
              "</div>\n",
              "      <button class=\"colab-df-convert\" onclick=\"convertToInteractive('df-cff39b57-69c8-4d10-b96b-b2571c8e5fc6')\"\n",
              "              title=\"Convert this dataframe to an interactive table.\"\n",
              "              style=\"display:none;\">\n",
              "        \n",
              "  <svg xmlns=\"http://www.w3.org/2000/svg\" height=\"24px\"viewBox=\"0 0 24 24\"\n",
              "       width=\"24px\">\n",
              "    <path d=\"M0 0h24v24H0V0z\" fill=\"none\"/>\n",
              "    <path d=\"M18.56 5.44l.94 2.06.94-2.06 2.06-.94-2.06-.94-.94-2.06-.94 2.06-2.06.94zm-11 1L8.5 8.5l.94-2.06 2.06-.94-2.06-.94L8.5 2.5l-.94 2.06-2.06.94zm10 10l.94 2.06.94-2.06 2.06-.94-2.06-.94-.94-2.06-.94 2.06-2.06.94z\"/><path d=\"M17.41 7.96l-1.37-1.37c-.4-.4-.92-.59-1.43-.59-.52 0-1.04.2-1.43.59L10.3 9.45l-7.72 7.72c-.78.78-.78 2.05 0 2.83L4 21.41c.39.39.9.59 1.41.59.51 0 1.02-.2 1.41-.59l7.78-7.78 2.81-2.81c.8-.78.8-2.07 0-2.86zM5.41 20L4 18.59l7.72-7.72 1.47 1.35L5.41 20z\"/>\n",
              "  </svg>\n",
              "      </button>\n",
              "      \n",
              "  <style>\n",
              "    .colab-df-container {\n",
              "      display:flex;\n",
              "      flex-wrap:wrap;\n",
              "      gap: 12px;\n",
              "    }\n",
              "\n",
              "    .colab-df-convert {\n",
              "      background-color: #E8F0FE;\n",
              "      border: none;\n",
              "      border-radius: 50%;\n",
              "      cursor: pointer;\n",
              "      display: none;\n",
              "      fill: #1967D2;\n",
              "      height: 32px;\n",
              "      padding: 0 0 0 0;\n",
              "      width: 32px;\n",
              "    }\n",
              "\n",
              "    .colab-df-convert:hover {\n",
              "      background-color: #E2EBFA;\n",
              "      box-shadow: 0px 1px 2px rgba(60, 64, 67, 0.3), 0px 1px 3px 1px rgba(60, 64, 67, 0.15);\n",
              "      fill: #174EA6;\n",
              "    }\n",
              "\n",
              "    [theme=dark] .colab-df-convert {\n",
              "      background-color: #3B4455;\n",
              "      fill: #D2E3FC;\n",
              "    }\n",
              "\n",
              "    [theme=dark] .colab-df-convert:hover {\n",
              "      background-color: #434B5C;\n",
              "      box-shadow: 0px 1px 3px 1px rgba(0, 0, 0, 0.15);\n",
              "      filter: drop-shadow(0px 1px 2px rgba(0, 0, 0, 0.3));\n",
              "      fill: #FFFFFF;\n",
              "    }\n",
              "  </style>\n",
              "\n",
              "      <script>\n",
              "        const buttonEl =\n",
              "          document.querySelector('#df-cff39b57-69c8-4d10-b96b-b2571c8e5fc6 button.colab-df-convert');\n",
              "        buttonEl.style.display =\n",
              "          google.colab.kernel.accessAllowed ? 'block' : 'none';\n",
              "\n",
              "        async function convertToInteractive(key) {\n",
              "          const element = document.querySelector('#df-cff39b57-69c8-4d10-b96b-b2571c8e5fc6');\n",
              "          const dataTable =\n",
              "            await google.colab.kernel.invokeFunction('convertToInteractive',\n",
              "                                                     [key], {});\n",
              "          if (!dataTable) return;\n",
              "\n",
              "          const docLinkHtml = 'Like what you see? Visit the ' +\n",
              "            '<a target=\"_blank\" href=https://colab.research.google.com/notebooks/data_table.ipynb>data table notebook</a>'\n",
              "            + ' to learn more about interactive tables.';\n",
              "          element.innerHTML = '';\n",
              "          dataTable['output_type'] = 'display_data';\n",
              "          await google.colab.output.renderOutput(dataTable, element);\n",
              "          const docLink = document.createElement('div');\n",
              "          docLink.innerHTML = docLinkHtml;\n",
              "          element.appendChild(docLink);\n",
              "        }\n",
              "      </script>\n",
              "    </div>\n",
              "  </div>\n",
              "  "
            ]
          },
          "metadata": {},
          "execution_count": 57
        }
      ]
    },
    {
      "cell_type": "code",
      "source": [
        "df_test['label'] = df_test['label'].astype(int)\n",
        "df_test[df_test['label'] != df_test['preds']]"
      ],
      "metadata": {
        "colab": {
          "base_uri": "https://localhost:8080/",
          "height": 533
        },
        "id": "WKVWbI2t9QmH",
        "outputId": "037640f1-6a11-4ef2-8751-7dc08e1ee226"
      },
      "execution_count": null,
      "outputs": [
        {
          "output_type": "stream",
          "name": "stderr",
          "text": [
            "/usr/local/lib/python3.7/dist-packages/ipykernel_launcher.py:1: SettingWithCopyWarning: \n",
            "A value is trying to be set on a copy of a slice from a DataFrame.\n",
            "Try using .loc[row_indexer,col_indexer] = value instead\n",
            "\n",
            "See the caveats in the documentation: https://pandas.pydata.org/pandas-docs/stable/user_guide/indexing.html#returning-a-view-versus-a-copy\n",
            "  \"\"\"Entry point for launching an IPython kernel.\n"
          ]
        },
        {
          "output_type": "execute_result",
          "data": {
            "text/plain": [
              "                        file  label  preds\n",
              "9038   3259-158083-0078.flac      0      1\n",
              "9140     696-93314-0001.flac      0      1\n",
              "9173    4406-16882-0066.flac      1      0\n",
              "9281    250-142276-0051.flac      0      1\n",
              "9598   2893-139310-0018.flac      1      0\n",
              "9620    6064-56168-0008.flac      0      1\n",
              "9633   3259-158083-0016.flac      0      1\n",
              "9705    6531-61334-0096.flac      0      1\n",
              "9860   7780-274562-0037.flac      0      1\n",
              "10247   289-121665-0028.flac      0      1\n",
              "10335   7402-90848-0012.flac      1      0\n",
              "10344  3214-167602-0003.flac      1      0"
            ],
            "text/html": [
              "\n",
              "  <div id=\"df-a3d9fc11-750a-44ca-811e-6c1055e1951b\">\n",
              "    <div class=\"colab-df-container\">\n",
              "      <div>\n",
              "<style scoped>\n",
              "    .dataframe tbody tr th:only-of-type {\n",
              "        vertical-align: middle;\n",
              "    }\n",
              "\n",
              "    .dataframe tbody tr th {\n",
              "        vertical-align: top;\n",
              "    }\n",
              "\n",
              "    .dataframe thead th {\n",
              "        text-align: right;\n",
              "    }\n",
              "</style>\n",
              "<table border=\"1\" class=\"dataframe\">\n",
              "  <thead>\n",
              "    <tr style=\"text-align: right;\">\n",
              "      <th></th>\n",
              "      <th>file</th>\n",
              "      <th>label</th>\n",
              "      <th>preds</th>\n",
              "    </tr>\n",
              "  </thead>\n",
              "  <tbody>\n",
              "    <tr>\n",
              "      <th>9038</th>\n",
              "      <td>3259-158083-0078.flac</td>\n",
              "      <td>0</td>\n",
              "      <td>1</td>\n",
              "    </tr>\n",
              "    <tr>\n",
              "      <th>9140</th>\n",
              "      <td>696-93314-0001.flac</td>\n",
              "      <td>0</td>\n",
              "      <td>1</td>\n",
              "    </tr>\n",
              "    <tr>\n",
              "      <th>9173</th>\n",
              "      <td>4406-16882-0066.flac</td>\n",
              "      <td>1</td>\n",
              "      <td>0</td>\n",
              "    </tr>\n",
              "    <tr>\n",
              "      <th>9281</th>\n",
              "      <td>250-142276-0051.flac</td>\n",
              "      <td>0</td>\n",
              "      <td>1</td>\n",
              "    </tr>\n",
              "    <tr>\n",
              "      <th>9598</th>\n",
              "      <td>2893-139310-0018.flac</td>\n",
              "      <td>1</td>\n",
              "      <td>0</td>\n",
              "    </tr>\n",
              "    <tr>\n",
              "      <th>9620</th>\n",
              "      <td>6064-56168-0008.flac</td>\n",
              "      <td>0</td>\n",
              "      <td>1</td>\n",
              "    </tr>\n",
              "    <tr>\n",
              "      <th>9633</th>\n",
              "      <td>3259-158083-0016.flac</td>\n",
              "      <td>0</td>\n",
              "      <td>1</td>\n",
              "    </tr>\n",
              "    <tr>\n",
              "      <th>9705</th>\n",
              "      <td>6531-61334-0096.flac</td>\n",
              "      <td>0</td>\n",
              "      <td>1</td>\n",
              "    </tr>\n",
              "    <tr>\n",
              "      <th>9860</th>\n",
              "      <td>7780-274562-0037.flac</td>\n",
              "      <td>0</td>\n",
              "      <td>1</td>\n",
              "    </tr>\n",
              "    <tr>\n",
              "      <th>10247</th>\n",
              "      <td>289-121665-0028.flac</td>\n",
              "      <td>0</td>\n",
              "      <td>1</td>\n",
              "    </tr>\n",
              "    <tr>\n",
              "      <th>10335</th>\n",
              "      <td>7402-90848-0012.flac</td>\n",
              "      <td>1</td>\n",
              "      <td>0</td>\n",
              "    </tr>\n",
              "    <tr>\n",
              "      <th>10344</th>\n",
              "      <td>3214-167602-0003.flac</td>\n",
              "      <td>1</td>\n",
              "      <td>0</td>\n",
              "    </tr>\n",
              "  </tbody>\n",
              "</table>\n",
              "</div>\n",
              "      <button class=\"colab-df-convert\" onclick=\"convertToInteractive('df-a3d9fc11-750a-44ca-811e-6c1055e1951b')\"\n",
              "              title=\"Convert this dataframe to an interactive table.\"\n",
              "              style=\"display:none;\">\n",
              "        \n",
              "  <svg xmlns=\"http://www.w3.org/2000/svg\" height=\"24px\"viewBox=\"0 0 24 24\"\n",
              "       width=\"24px\">\n",
              "    <path d=\"M0 0h24v24H0V0z\" fill=\"none\"/>\n",
              "    <path d=\"M18.56 5.44l.94 2.06.94-2.06 2.06-.94-2.06-.94-.94-2.06-.94 2.06-2.06.94zm-11 1L8.5 8.5l.94-2.06 2.06-.94-2.06-.94L8.5 2.5l-.94 2.06-2.06.94zm10 10l.94 2.06.94-2.06 2.06-.94-2.06-.94-.94-2.06-.94 2.06-2.06.94z\"/><path d=\"M17.41 7.96l-1.37-1.37c-.4-.4-.92-.59-1.43-.59-.52 0-1.04.2-1.43.59L10.3 9.45l-7.72 7.72c-.78.78-.78 2.05 0 2.83L4 21.41c.39.39.9.59 1.41.59.51 0 1.02-.2 1.41-.59l7.78-7.78 2.81-2.81c.8-.78.8-2.07 0-2.86zM5.41 20L4 18.59l7.72-7.72 1.47 1.35L5.41 20z\"/>\n",
              "  </svg>\n",
              "      </button>\n",
              "      \n",
              "  <style>\n",
              "    .colab-df-container {\n",
              "      display:flex;\n",
              "      flex-wrap:wrap;\n",
              "      gap: 12px;\n",
              "    }\n",
              "\n",
              "    .colab-df-convert {\n",
              "      background-color: #E8F0FE;\n",
              "      border: none;\n",
              "      border-radius: 50%;\n",
              "      cursor: pointer;\n",
              "      display: none;\n",
              "      fill: #1967D2;\n",
              "      height: 32px;\n",
              "      padding: 0 0 0 0;\n",
              "      width: 32px;\n",
              "    }\n",
              "\n",
              "    .colab-df-convert:hover {\n",
              "      background-color: #E2EBFA;\n",
              "      box-shadow: 0px 1px 2px rgba(60, 64, 67, 0.3), 0px 1px 3px 1px rgba(60, 64, 67, 0.15);\n",
              "      fill: #174EA6;\n",
              "    }\n",
              "\n",
              "    [theme=dark] .colab-df-convert {\n",
              "      background-color: #3B4455;\n",
              "      fill: #D2E3FC;\n",
              "    }\n",
              "\n",
              "    [theme=dark] .colab-df-convert:hover {\n",
              "      background-color: #434B5C;\n",
              "      box-shadow: 0px 1px 3px 1px rgba(0, 0, 0, 0.15);\n",
              "      filter: drop-shadow(0px 1px 2px rgba(0, 0, 0, 0.3));\n",
              "      fill: #FFFFFF;\n",
              "    }\n",
              "  </style>\n",
              "\n",
              "      <script>\n",
              "        const buttonEl =\n",
              "          document.querySelector('#df-a3d9fc11-750a-44ca-811e-6c1055e1951b button.colab-df-convert');\n",
              "        buttonEl.style.display =\n",
              "          google.colab.kernel.accessAllowed ? 'block' : 'none';\n",
              "\n",
              "        async function convertToInteractive(key) {\n",
              "          const element = document.querySelector('#df-a3d9fc11-750a-44ca-811e-6c1055e1951b');\n",
              "          const dataTable =\n",
              "            await google.colab.kernel.invokeFunction('convertToInteractive',\n",
              "                                                     [key], {});\n",
              "          if (!dataTable) return;\n",
              "\n",
              "          const docLinkHtml = 'Like what you see? Visit the ' +\n",
              "            '<a target=\"_blank\" href=https://colab.research.google.com/notebooks/data_table.ipynb>data table notebook</a>'\n",
              "            + ' to learn more about interactive tables.';\n",
              "          element.innerHTML = '';\n",
              "          dataTable['output_type'] = 'display_data';\n",
              "          await google.colab.output.renderOutput(dataTable, element);\n",
              "          const docLink = document.createElement('div');\n",
              "          docLink.innerHTML = docLinkHtml;\n",
              "          element.appendChild(docLink);\n",
              "        }\n",
              "      </script>\n",
              "    </div>\n",
              "  </div>\n",
              "  "
            ]
          },
          "metadata": {},
          "execution_count": 58
        }
      ]
    },
    {
      "cell_type": "code",
      "source": [
        "1-round(len(df_test[df_test['label'] != df_test['preds']])/len(df_test),3)"
      ],
      "metadata": {
        "colab": {
          "base_uri": "https://localhost:8080/"
        },
        "id": "COQfBBGQ9bQZ",
        "outputId": "7f6e6168-f7ca-4914-e046-a23a1fa61697"
      },
      "execution_count": null,
      "outputs": [
        {
          "output_type": "execute_result",
          "data": {
            "text/plain": [
              "0.992"
            ]
          },
          "metadata": {},
          "execution_count": 59
        }
      ]
    },
    {
      "cell_type": "markdown",
      "source": [
        "Sentiment Analysis"
      ],
      "metadata": {
        "id": "JYG2-bu-2tWf"
      }
    },
    {
      "cell_type": "code",
      "source": [
        "import os,glob\n",
        "import pandas as pd\n",
        "# Defining the relative path to folder containing all the text file_names\n",
        "folder_path = \"/content/drive/MyDrive/Fall 2022/Machine Learning/Project/LibriSpeech/train-clean-100/CombinedData/\"\n",
        "file_names = []\n",
        "\n",
        "# Create a dataframe list by using a list comprehension and concatenate \n",
        "file_names = [pd.read_csv(file, delimiter='-', names =['audio_folder', 'audio_name', 'text'] ) for file in glob.glob(os.path.join(folder_path ,\"*.txt\"))]\n",
        "file_names_df = pd.concat(file_names)\n",
        "file_names_df['text'] = file_names_df['text'].str[5:]\n",
        "\n",
        "# Creating copy\n",
        "\n",
        "combined_df = file_names_df\n",
        "\n",
        "# defining and calling pre-trained model \n",
        "senti_analyser = SentimentIntensityAnalyzer()\n",
        "combined_df['scores'] = combined_df['text'].apply(lambda text: senti_analyser.polarity_scores(text))\n",
        "#combined_df.head()\n",
        "combined_df['compound']  = combined_df['scores'].apply(lambda x: x['compound'])\n",
        "#combined_df.head()\n",
        "combined_df['sentiment'] = combined_df['compound'].apply(lambda x: 'Negative' if x <0 else 'Positive')\n",
        "combined_df.head()\n",
        "\n",
        "# Saving the concatenated data into maindata.csv file\n",
        "header = ['audio_folder', 'audio_name', 'text', 'sentiment']\n",
        "combined_df.to_csv(\"/content/drive/MyDrive/Fall 2022/Machine Learning/Project/LibriSpeech/Sentiment_analysed_data.csv\",columns=header)"
      ],
      "metadata": {
        "id": "dUbCBhXGifF2",
        "colab": {
          "base_uri": "https://localhost:8080/",
          "height": 425
        },
        "outputId": "a1fbdfd9-9e98-413d-df39-75ce34f433ab"
      },
      "execution_count": null,
      "outputs": [
        {
          "output_type": "error",
          "ename": "ValueError",
          "evalue": "ignored",
          "traceback": [
            "\u001b[0;31m---------------------------------------------------------------------------\u001b[0m",
            "\u001b[0;31mValueError\u001b[0m                                Traceback (most recent call last)",
            "\u001b[0;32m<ipython-input-14-e2f9a49e6f8c>\u001b[0m in \u001b[0;36m<module>\u001b[0;34m\u001b[0m\n\u001b[1;32m      7\u001b[0m \u001b[0;31m# Create a dataframe list by using a list comprehension and concatenate\u001b[0m\u001b[0;34m\u001b[0m\u001b[0;34m\u001b[0m\u001b[0;34m\u001b[0m\u001b[0m\n\u001b[1;32m      8\u001b[0m \u001b[0mfile_names\u001b[0m \u001b[0;34m=\u001b[0m \u001b[0;34m[\u001b[0m\u001b[0mpd\u001b[0m\u001b[0;34m.\u001b[0m\u001b[0mread_csv\u001b[0m\u001b[0;34m(\u001b[0m\u001b[0mfile\u001b[0m\u001b[0;34m,\u001b[0m \u001b[0mdelimiter\u001b[0m\u001b[0;34m=\u001b[0m\u001b[0;34m'-'\u001b[0m\u001b[0;34m,\u001b[0m \u001b[0mnames\u001b[0m \u001b[0;34m=\u001b[0m\u001b[0;34m[\u001b[0m\u001b[0;34m'audio_folder'\u001b[0m\u001b[0;34m,\u001b[0m \u001b[0;34m'audio_name'\u001b[0m\u001b[0;34m,\u001b[0m \u001b[0;34m'text'\u001b[0m\u001b[0;34m]\u001b[0m \u001b[0;34m)\u001b[0m \u001b[0;32mfor\u001b[0m \u001b[0mfile\u001b[0m \u001b[0;32min\u001b[0m \u001b[0mglob\u001b[0m\u001b[0;34m.\u001b[0m\u001b[0mglob\u001b[0m\u001b[0;34m(\u001b[0m\u001b[0mos\u001b[0m\u001b[0;34m.\u001b[0m\u001b[0mpath\u001b[0m\u001b[0;34m.\u001b[0m\u001b[0mjoin\u001b[0m\u001b[0;34m(\u001b[0m\u001b[0mfolder_path\u001b[0m \u001b[0;34m,\u001b[0m\u001b[0;34m\"*.txt\"\u001b[0m\u001b[0;34m)\u001b[0m\u001b[0;34m)\u001b[0m\u001b[0;34m]\u001b[0m\u001b[0;34m\u001b[0m\u001b[0;34m\u001b[0m\u001b[0m\n\u001b[0;32m----> 9\u001b[0;31m \u001b[0mfile_names_df\u001b[0m \u001b[0;34m=\u001b[0m \u001b[0mpd\u001b[0m\u001b[0;34m.\u001b[0m\u001b[0mconcat\u001b[0m\u001b[0;34m(\u001b[0m\u001b[0mfile_names\u001b[0m\u001b[0;34m)\u001b[0m\u001b[0;34m\u001b[0m\u001b[0;34m\u001b[0m\u001b[0m\n\u001b[0m\u001b[1;32m     10\u001b[0m \u001b[0mfile_names_df\u001b[0m\u001b[0;34m[\u001b[0m\u001b[0;34m'text'\u001b[0m\u001b[0;34m]\u001b[0m \u001b[0;34m=\u001b[0m \u001b[0mfile_names_df\u001b[0m\u001b[0;34m[\u001b[0m\u001b[0;34m'text'\u001b[0m\u001b[0;34m]\u001b[0m\u001b[0;34m.\u001b[0m\u001b[0mstr\u001b[0m\u001b[0;34m[\u001b[0m\u001b[0;36m5\u001b[0m\u001b[0;34m:\u001b[0m\u001b[0;34m]\u001b[0m\u001b[0;34m\u001b[0m\u001b[0;34m\u001b[0m\u001b[0m\n\u001b[1;32m     11\u001b[0m \u001b[0;34m\u001b[0m\u001b[0m\n",
            "\u001b[0;32m/usr/local/lib/python3.7/dist-packages/pandas/util/_decorators.py\u001b[0m in \u001b[0;36mwrapper\u001b[0;34m(*args, **kwargs)\u001b[0m\n\u001b[1;32m    309\u001b[0m                     \u001b[0mstacklevel\u001b[0m\u001b[0;34m=\u001b[0m\u001b[0mstacklevel\u001b[0m\u001b[0;34m,\u001b[0m\u001b[0;34m\u001b[0m\u001b[0;34m\u001b[0m\u001b[0m\n\u001b[1;32m    310\u001b[0m                 )\n\u001b[0;32m--> 311\u001b[0;31m             \u001b[0;32mreturn\u001b[0m \u001b[0mfunc\u001b[0m\u001b[0;34m(\u001b[0m\u001b[0;34m*\u001b[0m\u001b[0margs\u001b[0m\u001b[0;34m,\u001b[0m \u001b[0;34m**\u001b[0m\u001b[0mkwargs\u001b[0m\u001b[0;34m)\u001b[0m\u001b[0;34m\u001b[0m\u001b[0;34m\u001b[0m\u001b[0m\n\u001b[0m\u001b[1;32m    312\u001b[0m \u001b[0;34m\u001b[0m\u001b[0m\n\u001b[1;32m    313\u001b[0m         \u001b[0;32mreturn\u001b[0m \u001b[0mwrapper\u001b[0m\u001b[0;34m\u001b[0m\u001b[0;34m\u001b[0m\u001b[0m\n",
            "\u001b[0;32m/usr/local/lib/python3.7/dist-packages/pandas/core/reshape/concat.py\u001b[0m in \u001b[0;36mconcat\u001b[0;34m(objs, axis, join, ignore_index, keys, levels, names, verify_integrity, sort, copy)\u001b[0m\n\u001b[1;32m    302\u001b[0m         \u001b[0mverify_integrity\u001b[0m\u001b[0;34m=\u001b[0m\u001b[0mverify_integrity\u001b[0m\u001b[0;34m,\u001b[0m\u001b[0;34m\u001b[0m\u001b[0;34m\u001b[0m\u001b[0m\n\u001b[1;32m    303\u001b[0m         \u001b[0mcopy\u001b[0m\u001b[0;34m=\u001b[0m\u001b[0mcopy\u001b[0m\u001b[0;34m,\u001b[0m\u001b[0;34m\u001b[0m\u001b[0;34m\u001b[0m\u001b[0m\n\u001b[0;32m--> 304\u001b[0;31m         \u001b[0msort\u001b[0m\u001b[0;34m=\u001b[0m\u001b[0msort\u001b[0m\u001b[0;34m,\u001b[0m\u001b[0;34m\u001b[0m\u001b[0;34m\u001b[0m\u001b[0m\n\u001b[0m\u001b[1;32m    305\u001b[0m     )\n\u001b[1;32m    306\u001b[0m \u001b[0;34m\u001b[0m\u001b[0m\n",
            "\u001b[0;32m/usr/local/lib/python3.7/dist-packages/pandas/core/reshape/concat.py\u001b[0m in \u001b[0;36m__init__\u001b[0;34m(self, objs, axis, join, keys, levels, names, ignore_index, verify_integrity, copy, sort)\u001b[0m\n\u001b[1;32m    349\u001b[0m \u001b[0;34m\u001b[0m\u001b[0m\n\u001b[1;32m    350\u001b[0m         \u001b[0;32mif\u001b[0m \u001b[0mlen\u001b[0m\u001b[0;34m(\u001b[0m\u001b[0mobjs\u001b[0m\u001b[0;34m)\u001b[0m \u001b[0;34m==\u001b[0m \u001b[0;36m0\u001b[0m\u001b[0;34m:\u001b[0m\u001b[0;34m\u001b[0m\u001b[0;34m\u001b[0m\u001b[0m\n\u001b[0;32m--> 351\u001b[0;31m             \u001b[0;32mraise\u001b[0m \u001b[0mValueError\u001b[0m\u001b[0;34m(\u001b[0m\u001b[0;34m\"No objects to concatenate\"\u001b[0m\u001b[0;34m)\u001b[0m\u001b[0;34m\u001b[0m\u001b[0;34m\u001b[0m\u001b[0m\n\u001b[0m\u001b[1;32m    352\u001b[0m \u001b[0;34m\u001b[0m\u001b[0m\n\u001b[1;32m    353\u001b[0m         \u001b[0;32mif\u001b[0m \u001b[0mkeys\u001b[0m \u001b[0;32mis\u001b[0m \u001b[0;32mNone\u001b[0m\u001b[0;34m:\u001b[0m\u001b[0;34m\u001b[0m\u001b[0;34m\u001b[0m\u001b[0m\n",
            "\u001b[0;31mValueError\u001b[0m: No objects to concatenate"
          ]
        }
      ]
    },
    {
      "cell_type": "code",
      "source": [
        "!pip install text2emotion"
      ],
      "metadata": {
        "colab": {
          "base_uri": "https://localhost:8080/"
        },
        "id": "sTs5xZVuz-K1",
        "outputId": "ab875d11-973b-4d24-cbee-0c6b4cd273f9"
      },
      "execution_count": null,
      "outputs": [
        {
          "output_type": "stream",
          "name": "stdout",
          "text": [
            "Looking in indexes: https://pypi.org/simple, https://us-python.pkg.dev/colab-wheels/public/simple/\n",
            "Collecting text2emotion\n",
            "  Downloading text2emotion-0.0.5-py3-none-any.whl (57 kB)\n",
            "\u001b[K     |████████████████████████████████| 57 kB 2.5 MB/s \n",
            "\u001b[?25hRequirement already satisfied: nltk in /usr/local/lib/python3.7/dist-packages (from text2emotion) (3.7)\n",
            "Collecting emoji>=0.6.0\n",
            "  Downloading emoji-2.2.0.tar.gz (240 kB)\n",
            "\u001b[K     |████████████████████████████████| 240 kB 10.2 MB/s \n",
            "\u001b[?25hRequirement already satisfied: joblib in /usr/local/lib/python3.7/dist-packages (from nltk->text2emotion) (1.2.0)\n",
            "Requirement already satisfied: regex>=2021.8.3 in /usr/local/lib/python3.7/dist-packages (from nltk->text2emotion) (2022.6.2)\n",
            "Requirement already satisfied: tqdm in /usr/local/lib/python3.7/dist-packages (from nltk->text2emotion) (4.64.1)\n",
            "Requirement already satisfied: click in /usr/local/lib/python3.7/dist-packages (from nltk->text2emotion) (7.1.2)\n",
            "Building wheels for collected packages: emoji\n",
            "  Building wheel for emoji (setup.py) ... \u001b[?25l\u001b[?25hdone\n",
            "  Created wheel for emoji: filename=emoji-2.2.0-py3-none-any.whl size=234927 sha256=a3afac0c897e1b0ea6a9377b7ea6bc497bf12e51a0a4a109b18b9bf5c0077bc5\n",
            "  Stored in directory: /root/.cache/pip/wheels/f3/e3/f2/1de1c2e3ed742e1df73e0f15d58864e50c7e64f607b548d6cf\n",
            "Successfully built emoji\n",
            "Installing collected packages: emoji, text2emotion\n",
            "Successfully installed emoji-2.2.0 text2emotion-0.0.5\n"
          ]
        }
      ]
    },
    {
      "cell_type": "code",
      "source": [
        "!pip install emot"
      ],
      "metadata": {
        "colab": {
          "base_uri": "https://localhost:8080/"
        },
        "id": "oQjxcBDf0xMq",
        "outputId": "aa5ffaa0-0b6c-4427-91c8-2b1a69cb6108"
      },
      "execution_count": null,
      "outputs": [
        {
          "output_type": "stream",
          "name": "stdout",
          "text": [
            "Looking in indexes: https://pypi.org/simple, https://us-python.pkg.dev/colab-wheels/public/simple/\n",
            "Collecting emot\n",
            "  Downloading emot-3.1-py3-none-any.whl (61 kB)\n",
            "\u001b[K     |████████████████████████████████| 61 kB 14 kB/s \n",
            "\u001b[?25hInstalling collected packages: emot\n",
            "Successfully installed emot-3.1\n"
          ]
        }
      ]
    },
    {
      "cell_type": "code",
      "source": [
        "import text2emotion as te"
      ],
      "metadata": {
        "colab": {
          "base_uri": "https://localhost:8080/"
        },
        "id": "IoY5mDQR0Ang",
        "outputId": "963e8e8f-3789-4081-ed5f-97e337db0706"
      },
      "execution_count": null,
      "outputs": [
        {
          "output_type": "stream",
          "name": "stderr",
          "text": [
            "[nltk_data] Downloading package stopwords to /root/nltk_data...\n",
            "[nltk_data]   Package stopwords is already up-to-date!\n",
            "[nltk_data] Downloading package punkt to /root/nltk_data...\n",
            "[nltk_data]   Package punkt is already up-to-date!\n",
            "[nltk_data] Downloading package wordnet to /root/nltk_data...\n",
            "[nltk_data]   Package wordnet is already up-to-date!\n"
          ]
        }
      ]
    },
    {
      "cell_type": "code",
      "source": [
        "text=\"I had a great day.\""
      ],
      "metadata": {
        "id": "39and2d70FrA"
      },
      "execution_count": null,
      "outputs": []
    },
    {
      "cell_type": "code",
      "source": [
        "te.get_emotion(text)"
      ],
      "metadata": {
        "colab": {
          "base_uri": "https://localhost:8080/"
        },
        "id": "5pq2ovQf0J4Q",
        "outputId": "c45ce79a-7d03-49b7-9071-61279d6c3fec"
      },
      "execution_count": null,
      "outputs": [
        {
          "output_type": "execute_result",
          "data": {
            "text/plain": [
              "{'Happy': 1.0, 'Angry': 0.0, 'Surprise': 0.0, 'Sad': 0.0, 'Fear': 0.0}"
            ]
          },
          "metadata": {},
          "execution_count": 9
        }
      ]
    },
    {
      "cell_type": "code",
      "source": [],
      "metadata": {
        "id": "Bzr9r4CO4csh"
      },
      "execution_count": null,
      "outputs": []
    }
  ],
  "metadata": {
    "colab": {
      "provenance": []
    },
    "gpuClass": "standard",
    "kernelspec": {
      "display_name": "Python 3",
      "name": "python3"
    },
    "language_info": {
      "name": "python"
    }
  },
  "nbformat": 4,
  "nbformat_minor": 0
}